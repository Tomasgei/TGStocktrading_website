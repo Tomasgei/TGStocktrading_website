{
 "cells": [
  {
   "cell_type": "code",
   "execution_count": 11,
   "metadata": {},
   "outputs": [],
   "source": [
    "import datetime as dt\n",
    "import pandas as pd\n",
    "import numpy as np\n",
    "import yfinance as yf\n",
    "\n",
    "stock_list = ['BAC', 'C', 'HIG', 'LEN', 'MS'] #Input\n",
    "start_date = '2019-01-01' #Input\n",
    "end_date = '2021-12-31'#Input\n",
    "##########################################\n",
    "#print('stock_list:', stock_list)\n",
    "#data = yf.download(stock_list, start=start_date, end=end_date)[\"Adj Close\"]\n",
    "#print('data fields downloaded:',       set(data.columns.get_level_values(0)))\n",
    "#data.head()\n",
    "\n",
    "\n",
    "\n",
    "def get_price(stock):\n",
    "    \n",
    "    try:\n",
    "        return np.round(si.get_live_price(stock), decimals = 2)\n",
    "    except:\n",
    "        print(f\"{stock.upper()} is not a valid ticker\")\n",
    "        \n",
    "def get_data(stock, start, end):\n",
    "    try:\n",
    "        stock_data = yf.download(stock_list, start=start_date, end=end_date)[\"Adj Close\"]\n",
    "        print(stock_data.head())\n",
    "        return stock_data\n",
    "    except:\n",
    "        print(f'No data found for {stock}.')"
   ]
  },
  {
   "cell_type": "code",
   "execution_count": 12,
   "metadata": {},
   "outputs": [
    {
     "name": "stdout",
     "output_type": "stream",
     "text": [
      "[*********************100%***********************]  5 of 5 completed\n",
      "                  BAC          C        HIG        LEN         MS\n",
      "Date                                                             \n",
      "2019-01-02  22.641020  45.715557  39.206615  38.050545  35.365765\n",
      "2019-01-03  22.278175  44.887173  38.664837  37.660133  34.735485\n",
      "2019-01-04  23.203417  47.081997  39.856743  39.240810  36.153614\n",
      "2019-01-07  23.185274  47.491920  39.712276  40.354908  36.512520\n",
      "2019-01-08  23.139917  47.363819  39.179527  40.840530  36.284931\n"
     ]
    }
   ],
   "source": [
    "dt = get_data(stock_list,start_date,end_date)"
   ]
  },
  {
   "cell_type": "code",
   "execution_count": 14,
   "metadata": {},
   "outputs": [],
   "source": [
    "class Ledger:\n",
    "    def __init__(self):\n",
    "        self.transactions = {}\n",
    "        self.holdings = {\"USD\": 0}\n",
    "        \n",
    "    def get_holdings(self):\n",
    "        return self.holdings\n",
    "    \n",
    "    def get_transactions(self):\n",
    "        return self.transactions"
   ]
  },
  {
   "cell_type": "code",
   "execution_count": null,
   "metadata": {},
   "outputs": [],
   "source": []
  }
 ],
 "metadata": {
  "kernelspec": {
   "display_name": ".djangoTradingBlog",
   "language": "python",
   "name": "python3"
  },
  "language_info": {
   "codemirror_mode": {
    "name": "ipython",
    "version": 3
   },
   "file_extension": ".py",
   "mimetype": "text/x-python",
   "name": "python",
   "nbconvert_exporter": "python",
   "pygments_lexer": "ipython3",
   "version": "3.11.3"
  },
  "orig_nbformat": 4
 },
 "nbformat": 4,
 "nbformat_minor": 2
}
