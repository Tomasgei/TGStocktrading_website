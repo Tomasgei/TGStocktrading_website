{
 "cells": [
  {
   "cell_type": "code",
   "execution_count": 23,
   "metadata": {},
   "outputs": [
    {
     "name": "stdout",
     "output_type": "stream",
     "text": [
      "{'items': '50', 'sentiment_score_definition': 'x <= -0.35: Bearish; -0.35 < x <= -0.15: Somewhat-Bearish; -0.15 < x < 0.15: Neutral; 0.15 <= x < 0.35: Somewhat_Bullish; x >= 0.35: Bullish', 'relevance_score_definition': '0 < x <= 1, with a higher score indicating higher relevance.', 'feed': [{'title': '\"Ape\" Into AMC? Buy These Explosive Growth Stocks Instead', 'url': 'https://www.fool.com/investing/2022/08/27/ape-into-amc-buy-these-explosive-growth-stocks-ins/', 'time_published': '20220827T143700', 'authors': ['Michael Byrne'], 'summary': 'Investors are better off \"aping\" into these stocks that are growing revenue at a scintillating pace.', 'banner_image': 'https://g.foolcdn.com/image/?url=https%3A%2F%2Fg.foolcdn.com%2Feditorial%2Fimages%2F697701%2Fmovie-theater-amc-empty-happy.jpg&w=700&op=resize', 'source': 'Motley Fool', 'category_within_source': 'n/a', 'source_domain': 'www.fool.com', 'topics': [{'topic': 'Financial Markets', 'relevance_score': '0.684621'}, {'topic': 'Earnings', 'relevance_score': '0.980922'}, {'topic': 'Technology', 'relevance_score': '1.0'}, {'topic': 'Economy - Macro', 'relevance_score': '0.158519'}], 'overall_sentiment_score': 0.236647, 'overall_sentiment_label': 'Somewhat-Bullish', 'ticker_sentiment': [{'ticker': 'MELI', 'relevance_score': '0.151539', 'ticker_sentiment_score': '0.239377', 'ticker_sentiment_label': 'Somewhat-Bullish'}, {'ticker': 'AMC', 'relevance_score': '0.475838', 'ticker_sentiment_score': '0.352506', 'ticker_sentiment_label': 'Bullish'}, {'ticker': 'BROS', 'relevance_score': '0.389636', 'ticker_sentiment_score': '0.328757', 'ticker_sentiment_label': 'Somewhat-Bullish'}]}, {'title': 'Much Wow: Dogecoin Could Be A Good Boy At Supermarkets With Coinstar ATM Deal', 'url': 'https://www.benzinga.com/markets/cryptocurrency/22/08/28639888/much-wow-dogecoin-could-be-a-good-boy-at-supermarkets-with-coinstar-atm-deal', 'time_published': '20220826T212427', 'authors': ['Chris Katje'], 'summary': 'Several popular cryptocurrencies are being added to more ATMs around the country. Here are the details about these cryptocurrencies and where to find them. What Happened: More than 10,000 ATMs across the U.S. will allow users to purchase cryptocurrency with cash via crypto onboarding service ...', 'banner_image': 'https://cdn.benzinga.com/files/images/story/2022/08/26/dogecoin.executium-r9dg85a7e_u-unsplash.jpg?width=1200&height=800&fit=crop', 'source': 'Benzinga', 'category_within_source': 'Markets', 'source_domain': 'www.benzinga.com', 'topics': [{'topic': 'Life Sciences', 'relevance_score': '0.5'}, {'topic': 'Blockchain', 'relevance_score': '0.983605'}, {'topic': 'Manufacturing', 'relevance_score': '0.5'}], 'overall_sentiment_score': 0.238351, 'overall_sentiment_label': 'Somewhat-Bullish', 'ticker_sentiment': [{'ticker': 'NEGG', 'relevance_score': '0.114956', 'ticker_sentiment_score': '0.299005', 'ticker_sentiment_label': 'Somewhat-Bullish'}, {'ticker': 'TSLA', 'relevance_score': '0.114956', 'ticker_sentiment_score': '0.299005', 'ticker_sentiment_label': 'Somewhat-Bullish'}, {'ticker': 'MGI', 'relevance_score': '0.114956', 'ticker_sentiment_score': '0.0', 'ticker_sentiment_label': 'Neutral'}, {'ticker': 'AMC', 'relevance_score': '0.114956', 'ticker_sentiment_score': '0.299005', 'ticker_sentiment_label': 'Somewhat-Bullish'}, {'ticker': 'CRYPTO:BTC', 'relevance_score': '0.282234', 'ticker_sentiment_score': '0.132216', 'ticker_sentiment_label': 'Neutral'}, {'ticker': 'CRYPTO:ETH', 'relevance_score': '0.057628', 'ticker_sentiment_score': '0.067956', 'ticker_sentiment_label': 'Neutral'}, {'ticker': 'CRYPTO:DOGE', 'relevance_score': '0.227538', 'ticker_sentiment_score': '0.284774', 'ticker_sentiment_label': 'Somewhat-Bullish'}]}, {'title': 'Want To Invest Like Kenneth Griffin? Here Is 1 Dividend Stock Citadel Has That Could Be A Nice Addition To A Portfolio', 'url': 'https://www.benzinga.com/news/large-cap/22/08/28604067/want-to-invest-like-kenneth-griffin-here-is-1-dividend-stock-citadel-is-holding-for-the-second-hal', 'time_published': '20220826T173113', 'authors': ['Robert Kuczmarski'], 'summary': 'After the Citadel and Robinhood Markets Inc RH backlash over notable meme stock trades such as Gamestop Corp GME and AMC Entertainment Holdings Inc AMC, things have cooled off a bit in the media for the hedge fund.', 'banner_image': 'https://cdn.benzinga.com/files/images/story/2022/08/25/shutterstock_1896650506.jpg?width=1200&height=800&fit=crop', 'source': 'Benzinga', 'category_within_source': 'Trading', 'source_domain': 'www.benzinga.com', 'topics': [{'topic': 'Retail & Wholesale', 'relevance_score': '0.333333'}, {'topic': 'Financial Markets', 'relevance_score': '0.161647'}, {'topic': 'Manufacturing', 'relevance_score': '0.333333'}, {'topic': 'Finance', 'relevance_score': '0.333333'}], 'overall_sentiment_score': 0.132842, 'overall_sentiment_label': 'Neutral', 'ticker_sentiment': [{'ticker': 'BBY', 'relevance_score': '0.078354', 'ticker_sentiment_score': '0.074996', 'ticker_sentiment_label': 'Neutral'}, {'ticker': 'AVGO', 'relevance_score': '0.377142', 'ticker_sentiment_score': '0.129543', 'ticker_sentiment_label': 'Neutral'}, {'ticker': 'HOOD', 'relevance_score': '0.078354', 'ticker_sentiment_score': '-0.061796', 'ticker_sentiment_label': 'Neutral'}, {'ticker': 'GME', 'relevance_score': '0.155954', 'ticker_sentiment_score': '-0.079095', 'ticker_sentiment_label': 'Neutral'}, {'ticker': 'RH', 'relevance_score': '0.078354', 'ticker_sentiment_score': '-0.061796', 'ticker_sentiment_label': 'Neutral'}, {'ticker': 'AMC', 'relevance_score': '0.155954', 'ticker_sentiment_score': '-0.079095', 'ticker_sentiment_label': 'Neutral'}]}, {'title': 'What Happened to AMC Preferred Equity After the APE Was Released This Week?', 'url': 'https://www.fool.com/investing/2022/08/26/what-happened-to-amc-preferred-equity-after-the-ap/', 'time_published': '20220826T171634', 'authors': ['Rich Duprey'], 'summary': \"The movie theater operator's odd stock split-like equity issuance could become a value stock.\", 'banner_image': 'https://g.foolcdn.com/image/?url=https%3A%2F%2Fg.foolcdn.com%2Feditorial%2Fimages%2F698308%2Fmovie-theater-projection-projector-getty.jpeg&w=700&op=resize', 'source': 'Motley Fool', 'category_within_source': 'n/a', 'source_domain': 'www.fool.com', 'topics': [{'topic': 'Financial Markets', 'relevance_score': '0.999999'}], 'overall_sentiment_score': 0.189495, 'overall_sentiment_label': 'Somewhat-Bullish', 'ticker_sentiment': [{'ticker': 'AMC', 'relevance_score': '0.689185', 'ticker_sentiment_score': '0.290362', 'ticker_sentiment_label': 'Somewhat-Bullish'}]}, {'title': \"AMC Entertainment Bears Are Running Out Of Steam: Here's Where The Stock Could Bounce\", 'url': 'https://www.benzinga.com/trading-ideas/long-ideas/22/08/28650752/bears-are-running-out-of-steam-on-amc-entertainment-heres-where-the-stock-could-bounce', 'time_published': '20220826T160537', 'authors': ['Melanie Schaffer'], 'summary': \"On Thursday evening, Benzinga asked its followers on Twitter what stock they're most focused on to end the week. From the replies Benzinga selected one ticker for technical analysis. @Esturban3 @gt_uln, @alberto92445611 and @Boosted_STI responded to say they're focused on AMC Entertainment ...\", 'banner_image': 'https://cdn.benzinga.com/files/images/story/2022/08/26/shutterstock_1988285789.jpg?width=1200&height=800&fit=crop', 'source': 'Benzinga', 'category_within_source': 'Trading', 'source_domain': 'www.benzinga.com', 'topics': [{'topic': 'Financial Markets', 'relevance_score': '0.54554'}], 'overall_sentiment_score': 0.047846, 'overall_sentiment_label': 'Neutral', 'ticker_sentiment': [{'ticker': 'AMC', 'relevance_score': '0.626259', 'ticker_sentiment_score': '-0.204414', 'ticker_sentiment_label': 'Somewhat-Bearish'}]}, {'title': \"3 Beaten-Down Passive Income Stocks You'll Regret Not Buying on the Dip\", 'url': 'https://www.fool.com/investing/2022/08/26/3-beaten-down-passive-income-stocks-youll-regret-n/', 'time_published': '20220826T142311', 'authors': ['Matthew Frankel', 'CFP®'], 'summary': 'These three dividend stocks are well off their highs but could be bargains for patient investors.', 'banner_image': 'https://g.foolcdn.com/editorial/images/697104/epr-properties.jpg', 'source': 'Motley Fool', 'category_within_source': 'n/a', 'source_domain': 'www.fool.com', 'topics': [{'topic': 'Earnings', 'relevance_score': '0.158519'}, {'topic': 'Real Estate & Construction', 'relevance_score': '1.0'}, {'topic': 'Financial Markets', 'relevance_score': '0.365926'}], 'overall_sentiment_score': 0.21774, 'overall_sentiment_label': 'Somewhat-Bullish', 'ticker_sentiment': [{'ticker': 'DLR', 'relevance_score': '0.194763', 'ticker_sentiment_score': '0.071156', 'ticker_sentiment_label': 'Neutral'}, {'ticker': 'CNNWF', 'relevance_score': '0.065506', 'ticker_sentiment_score': '0.038436', 'ticker_sentiment_label': 'Neutral'}, {'ticker': 'EPR', 'relevance_score': '0.378094', 'ticker_sentiment_score': '0.218653', 'ticker_sentiment_label': 'Somewhat-Bullish'}, {'ticker': 'AMC', 'relevance_score': '0.065506', 'ticker_sentiment_score': '0.038436', 'ticker_sentiment_label': 'Neutral'}, {'ticker': 'OUT', 'relevance_score': '0.194763', 'ticker_sentiment_score': '-0.093052', 'ticker_sentiment_label': 'Neutral'}]}, {'title': 'The Zacks Analyst Blog Highlights AMC Entertainment Holdings, Rocket Companies, Bed Bath & Beyond, Snap and Roku', 'url': 'https://www.zacks.com/stock/news/1972736/the-zacks-analyst-blog-highlights-amc-entertainment-holdings-rocket-companies-bed-bath-beyond-snap-and-roku', 'time_published': '20220826T105900', 'authors': ['Zacks Investment Research'], 'summary': 'AMC Entertainment Holdings, Rocket Companies, Bed Bath & Beyond, Snap and Roku are included in this Analyst Blog.', 'banner_image': 'https://staticx-tuner.zacks.com/images/articles/main/5b/60.jpg', 'source': 'Zacks Commentary', 'category_within_source': 'n/a', 'source_domain': 'www.zacks.com', 'topics': [{'topic': 'Economy - Monetary', 'relevance_score': '0.310843'}, {'topic': 'Retail & Wholesale', 'relevance_score': '0.5'}, {'topic': 'Financial Markets', 'relevance_score': '0.999822'}, {'topic': 'Earnings', 'relevance_score': '0.999594'}, {'topic': 'Technology', 'relevance_score': '0.5'}], 'overall_sentiment_score': 0.01471, 'overall_sentiment_label': 'Neutral', 'ticker_sentiment': [{'ticker': 'BBBY', 'relevance_score': '0.222157', 'ticker_sentiment_score': '0.161522', 'ticker_sentiment_label': 'Somewhat-Bullish'}, {'ticker': 'ROKU', 'relevance_score': '0.185876', 'ticker_sentiment_score': '0.122878', 'ticker_sentiment_label': 'Neutral'}, {'ticker': 'SNAP', 'relevance_score': '0.185876', 'ticker_sentiment_score': '0.134595', 'ticker_sentiment_label': 'Neutral'}, {'ticker': 'CNNWF', 'relevance_score': '0.037504', 'ticker_sentiment_score': '-0.082285', 'ticker_sentiment_label': 'Neutral'}, {'ticker': 'AMC', 'relevance_score': '0.185876', 'ticker_sentiment_score': '0.017195', 'ticker_sentiment_label': 'Neutral'}]}, {'title': 'Bull of the Day: Avis Budget Group  ( CAR ) ', 'url': 'https://www.zacks.com/commentary/1972624/bull-of-the-day-avis-budget-group-car', 'time_published': '20220826T103000', 'authors': ['Zacks Investment Research'], 'summary': 'Earnings momentum accelerating as the stock consolidates.', 'banner_image': 'https://staticx-tuner.zacks.com/images/default_article_images/default8.jpg', 'source': 'Zacks Commentary', 'category_within_source': 'n/a', 'source_domain': 'www.zacks.com', 'topics': [{'topic': 'Retail & Wholesale', 'relevance_score': '0.5'}, {'topic': 'Financial Markets', 'relevance_score': '0.658903'}, {'topic': 'Earnings', 'relevance_score': '0.988915'}, {'topic': 'Finance', 'relevance_score': '0.5'}], 'overall_sentiment_score': 0.097083, 'overall_sentiment_label': 'Neutral', 'ticker_sentiment': [{'ticker': 'BBBY', 'relevance_score': '0.119235', 'ticker_sentiment_score': '-0.025523', 'ticker_sentiment_label': 'Neutral'}, {'ticker': 'CAR', 'relevance_score': '0.67044', 'ticker_sentiment_score': '0.215625', 'ticker_sentiment_label': 'Somewhat-Bullish'}, {'ticker': 'GME', 'relevance_score': '0.119235', 'ticker_sentiment_score': '-0.025523', 'ticker_sentiment_label': 'Neutral'}, {'ticker': 'JPM', 'relevance_score': '0.059785', 'ticker_sentiment_score': '0.0', 'ticker_sentiment_label': 'Neutral'}, {'ticker': 'AMC', 'relevance_score': '0.119235', 'ticker_sentiment_score': '-0.025523', 'ticker_sentiment_label': 'Neutral'}]}, {'title': 'Why AMC Entertainment Holdings Dropped as Much as 48.1% This Week', 'url': 'https://www.fool.com/investing/2022/08/25/why-amc-entertainment-holdings-dropped-481-week/', 'time_published': '20220825T174227', 'authors': ['Brett Schafer'], 'summary': 'The beleaguered movie theater chain and meme stock pulled off an interesting stock split by issuing a new share class this week.', 'banner_image': 'https://media.ycharts.com/charts/a3a61a1d0959ed08c95a32cb2fb760be.png', 'source': 'Motley Fool', 'category_within_source': 'n/a', 'source_domain': 'www.fool.com', 'topics': [{'topic': 'Financial Markets', 'relevance_score': '1.0'}], 'overall_sentiment_score': 0.237234, 'overall_sentiment_label': 'Somewhat-Bullish', 'ticker_sentiment': [{'ticker': 'SPGI', 'relevance_score': '0.097457', 'ticker_sentiment_score': '0.206266', 'ticker_sentiment_label': 'Somewhat-Bullish'}, {'ticker': 'AMC', 'relevance_score': '0.933751', 'ticker_sentiment_score': '0.40457', 'ticker_sentiment_label': 'Bullish'}]}, {'title': \"SAINT MICHAEL: MEET THE ANGEL HITS THEATERS ON THURSDAY, SEPTEMBER 29th AS PART OF FATHOM EVENTS' NEW SAINT SERIES\", 'url': 'https://www.benzinga.com/pressreleases/22/08/n28637734/saint-michael-meet-the-angel-hits-theaters-on-thursday-september-29th-as-part-of-fathom-events-new', 'time_published': '20220825T173900', 'authors': ['PRNewswire'], 'summary': \"Powerful documentary on Heaven's most mighty Angel is the latest in the new collection of films inspired by the everyday people who have become saints\", 'banner_image': '', 'source': 'Benzinga', 'category_within_source': 'General', 'source_domain': 'www.benzinga.com', 'topics': [], 'overall_sentiment_score': 0.360444, 'overall_sentiment_label': 'Bullish', 'ticker_sentiment': [{'ticker': 'NFLX', 'relevance_score': '0.038101', 'ticker_sentiment_score': '0.066507', 'ticker_sentiment_label': 'Neutral'}, {'ticker': 'CNK', 'relevance_score': '0.076115', 'ticker_sentiment_score': '0.132568', 'ticker_sentiment_label': 'Neutral'}, {'ticker': 'CNNWF', 'relevance_score': '0.038101', 'ticker_sentiment_score': '0.126762', 'ticker_sentiment_label': 'Neutral'}, {'ticker': 'AMC', 'relevance_score': '0.076115', 'ticker_sentiment_score': '0.132568', 'ticker_sentiment_label': 'Neutral'}]}, {'title': \"Looking At AMC Entertainment's Recent Whale Trades\", 'url': 'https://www.benzinga.com/markets/options/22/08/28635543/looking-at-amc-entertainments-recent-whale-trades', 'time_published': '20220825T153149', 'authors': ['Benzinga Insights'], 'summary': 'A whale with a lot of money to spend has taken a noticeably bearish stance on AMC Entertainment. Looking at options history for AMC Entertainment AMC we detected 13 strange trades. If we consider the specifics of each trade, it is accurate to state that 7% of the investors opened trades with ...', 'banner_image': 'https://cdn.benzinga.com/files/images/story/2022/movers_image_15609.jpeg?width=1200&height=800&fit=crop', 'source': 'Benzinga', 'category_within_source': 'Markets', 'source_domain': 'www.benzinga.com', 'topics': [{'topic': 'Earnings', 'relevance_score': '0.158519'}, {'topic': 'Financial Markets', 'relevance_score': '0.214378'}], 'overall_sentiment_score': 0.133694, 'overall_sentiment_label': 'Neutral', 'ticker_sentiment': [{'ticker': 'AMC', 'relevance_score': '0.591019', 'ticker_sentiment_score': '0.162282', 'ticker_sentiment_label': 'Somewhat-Bullish'}]}, {'title': 'Salesforce, Dollar Tree, Tesla And Some Other Big Stocks Moving Lower On Thursday', 'url': 'https://www.benzinga.com/news/22/08/28635480/salesforce-dollar-tree-tesla-and-some-other-big-stocks-moving-lower-on-thursday', 'time_published': '20220825T152713', 'authors': ['Lisa Levin'], 'summary': 'Peloton Interactive, Inc. PTON shares fell 20.8% to $10.68 after the company reported worse-than-expected Q4 sales results and issued Q1 sales guidance below estimates. Indonesia Energy Corporation Limited INDO dipped 13.4% to $10.32. Grab Holdings Limited GRAB dropped 12.9% to $3.1350 following ...', 'banner_image': 'https://cdn.benzinga.com/files/images/story/2022/08/25/image49.jpg?optimize=medium&dpr=2&auto=webp&width=3840', 'source': 'Benzinga', 'category_within_source': 'Trading', 'source_domain': 'www.benzinga.com', 'topics': [{'topic': 'Life Sciences', 'relevance_score': '0.25'}, {'topic': 'Technology', 'relevance_score': '0.25'}, {'topic': 'IPO', 'relevance_score': '0.158519'}, {'topic': 'Retail & Wholesale', 'relevance_score': '0.25'}, {'topic': 'Financial Markets', 'relevance_score': '0.108179'}, {'topic': 'Manufacturing', 'relevance_score': '0.25'}, {'topic': 'Earnings', 'relevance_score': '0.95493'}], 'overall_sentiment_score': 0.007234, 'overall_sentiment_label': 'Neutral', 'ticker_sentiment': [{'ticker': 'BURL', 'relevance_score': '0.129866', 'ticker_sentiment_score': '-0.062162', 'ticker_sentiment_label': 'Neutral'}, {'ticker': 'TSLA', 'relevance_score': '0.129866', 'ticker_sentiment_score': '-0.39162', 'ticker_sentiment_label': 'Bearish'}, {'ticker': 'RLAY', 'relevance_score': '0.193723', 'ticker_sentiment_score': '-0.258245', 'ticker_sentiment_label': 'Somewhat-Bearish'}, {'ticker': 'ZUO', 'relevance_score': '0.193723', 'ticker_sentiment_score': '-0.181045', 'ticker_sentiment_label': 'Somewhat-Bearish'}, {'ticker': 'DLTR', 'relevance_score': '0.129866', 'ticker_sentiment_score': '0.106752', 'ticker_sentiment_label': 'Neutral'}, {'ticker': 'PTON', 'relevance_score': '0.129866', 'ticker_sentiment_score': '0.056451', 'ticker_sentiment_label': 'Neutral'}, {'ticker': 'AMC', 'relevance_score': '0.06515', 'ticker_sentiment_score': '-0.278954', 'ticker_sentiment_label': 'Somewhat-Bearish'}, {'ticker': 'WETG', 'relevance_score': '0.193723', 'ticker_sentiment_score': '-0.116154', 'ticker_sentiment_label': 'Neutral'}, {'ticker': 'BOX', 'relevance_score': '0.129866', 'ticker_sentiment_score': '-0.125643', 'ticker_sentiment_label': 'Neutral'}, {'ticker': 'SPLK', 'relevance_score': '0.193723', 'ticker_sentiment_score': '0.041769', 'ticker_sentiment_label': 'Neutral'}, {'ticker': 'GRAB', 'relevance_score': '0.193723', 'ticker_sentiment_score': '0.044489', 'ticker_sentiment_label': 'Neutral'}]}, {'title': 'AMC Stock Will Survive This Late Summer Drought', 'url': 'https://www.fool.com/investing/2022/08/25/amc-stock-will-survive-this-late-summer-drought/', 'time_published': '20220825T152500', 'authors': ['Rick Munarriz'], 'summary': 'A third quarter that started off strong for multiplex operators is now shuffling toward a disappointing conclusion -- but just wait for the sequel.', 'banner_image': 'https://g.foolcdn.com/image/?url=https%3A%2F%2Fg.foolcdn.com%2Feditorial%2Fimages%2F698057%2Fgettyimages-200176576-008.jpg&w=700&op=resize', 'source': 'Motley Fool', 'category_within_source': 'n/a', 'source_domain': 'www.fool.com', 'topics': [{'topic': 'Earnings', 'relevance_score': '0.614606'}, {'topic': 'Economy - Monetary', 'relevance_score': '0.158519'}], 'overall_sentiment_score': 0.133468, 'overall_sentiment_label': 'Neutral', 'ticker_sentiment': [{'ticker': 'WBD', 'relevance_score': '0.106778', 'ticker_sentiment_score': '-0.147573', 'ticker_sentiment_label': 'Neutral'}, {'ticker': 'AMC', 'relevance_score': '0.31282', 'ticker_sentiment_score': '0.179098', 'ticker_sentiment_label': 'Somewhat-Bullish'}]}, {'title': \"Meme Stocks Luring Again: Don't Make Hasty Decisions\", 'url': 'https://www.zacks.com/stock/news/1972336/meme-stocks-luring-again-dont-make-hasty-decisions', 'time_published': '20220825T121900', 'authors': ['Zacks Investment Research'], 'summary': \"The first half of this year didn't see much hype around meme stocks but last month saw a resurgence. Keep an eye on RKT, BBBY, SNAP and ROKU.\", 'banner_image': 'https://staticx-tuner.zacks.com/images/articles/main/41/6797.jpg', 'source': 'Zacks Commentary', 'category_within_source': 'n/a', 'source_domain': 'www.zacks.com', 'topics': [{'topic': 'Economy - Monetary', 'relevance_score': '0.310843'}, {'topic': 'Retail & Wholesale', 'relevance_score': '0.5'}, {'topic': 'Financial Markets', 'relevance_score': '0.999499'}, {'topic': 'Earnings', 'relevance_score': '0.999594'}, {'topic': 'Technology', 'relevance_score': '0.5'}], 'overall_sentiment_score': 0.014755, 'overall_sentiment_label': 'Neutral', 'ticker_sentiment': [{'ticker': 'BBBY', 'relevance_score': '0.199037', 'ticker_sentiment_score': '0.101011', 'ticker_sentiment_label': 'Neutral'}, {'ticker': 'ROKU', 'relevance_score': '0.159834', 'ticker_sentiment_score': '0.040148', 'ticker_sentiment_label': 'Neutral'}, {'ticker': 'SNAP', 'relevance_score': '0.159834', 'ticker_sentiment_score': '0.038026', 'ticker_sentiment_label': 'Neutral'}, {'ticker': 'CNNWF', 'relevance_score': '0.040212', 'ticker_sentiment_score': '-0.046873', 'ticker_sentiment_label': 'Neutral'}, {'ticker': 'AMC', 'relevance_score': '0.159834', 'ticker_sentiment_score': '-0.080184', 'ticker_sentiment_label': 'Neutral'}]}, {'title': 'Can Dogecoin Reach $1?', 'url': 'https://www.fool.com/investing/2022/08/25/can-dogecoin-reach-1/', 'time_published': '20220825T111000', 'authors': ['Neil Patel'], 'summary': \"This lofty target implies a monumental return from the meme-inspired token's current price.\", 'banner_image': 'https://g.foolcdn.com/editorial/images/697244/shiba-inu-dog-doge-dogecoin.jpeg', 'source': 'Motley Fool', 'category_within_source': 'n/a', 'source_domain': 'www.fool.com', 'topics': [{'topic': 'Retail & Wholesale', 'relevance_score': '0.5'}, {'topic': 'Financial Markets', 'relevance_score': '0.77141'}, {'topic': 'Manufacturing', 'relevance_score': '0.5'}, {'topic': 'Blockchain', 'relevance_score': '0.576289'}], 'overall_sentiment_score': 0.139449, 'overall_sentiment_label': 'Neutral', 'ticker_sentiment': [{'ticker': 'AWON', 'relevance_score': '0.066414', 'ticker_sentiment_score': '0.265109', 'ticker_sentiment_label': 'Somewhat-Bullish'}, {'ticker': 'TSLA', 'relevance_score': '0.066414', 'ticker_sentiment_score': '-0.033218', 'ticker_sentiment_label': 'Neutral'}, {'ticker': 'GME', 'relevance_score': '0.066414', 'ticker_sentiment_score': '0.025394', 'ticker_sentiment_label': 'Neutral'}, {'ticker': 'AMC', 'relevance_score': '0.066414', 'ticker_sentiment_score': '0.025394', 'ticker_sentiment_label': 'Neutral'}, {'ticker': 'CRYPTO:BTC', 'relevance_score': '0.382925', 'ticker_sentiment_score': '0.188837', 'ticker_sentiment_label': 'Somewhat-Bullish'}, {'ticker': 'CRYPTO:ETH', 'relevance_score': '0.066414', 'ticker_sentiment_score': '0.183546', 'ticker_sentiment_label': 'Somewhat-Bullish'}, {'ticker': 'CRYPTO:DOGE', 'relevance_score': '0.640683', 'ticker_sentiment_score': '0.16503', 'ticker_sentiment_label': 'Somewhat-Bullish'}]}, {'title': 'This Is the Only Meme Stock I Would Invest In', 'url': 'https://www.fool.com/investing/2022/08/25/this-is-the-only-meme-stock-i-would-invest-in/', 'time_published': '20220825T104500', 'authors': ['Billy Duberstein'], 'summary': 'After the market crash during the first half of 2022, meme stocks came back in fashion in July and August.', 'banner_image': 'https://g.foolcdn.com/image/?url=https%3A%2F%2Fg.foolcdn.com%2Feditorial%2Fimages%2F697910%2Fcannabis-farmer.jpg&w=700&op=resize', 'source': 'Motley Fool', 'category_within_source': 'n/a', 'source_domain': 'www.fool.com', 'topics': [{'topic': 'Retail & Wholesale', 'relevance_score': '0.5'}, {'topic': 'Financial Markets', 'relevance_score': '1.0'}, {'topic': 'Earnings', 'relevance_score': '0.158519'}, {'topic': 'Technology', 'relevance_score': '0.5'}], 'overall_sentiment_score': 0.102995, 'overall_sentiment_label': 'Neutral', 'ticker_sentiment': [{'ticker': 'VLNS', 'relevance_score': '0.135729', 'ticker_sentiment_score': '0.03516', 'ticker_sentiment_label': 'Neutral'}, {'ticker': 'USMJ', 'relevance_score': '0.034087', 'ticker_sentiment_score': '0.12415', 'ticker_sentiment_label': 'Neutral'}, {'ticker': 'GME', 'relevance_score': '0.068112', 'ticker_sentiment_score': '-0.097673', 'ticker_sentiment_label': 'Neutral'}, {'ticker': 'LQSIF', 'relevance_score': '0.102013', 'ticker_sentiment_score': '0.051972', 'ticker_sentiment_label': 'Neutral'}, {'ticker': 'AMC', 'relevance_score': '0.034087', 'ticker_sentiment_score': '-0.091069', 'ticker_sentiment_label': 'Neutral'}]}, {'title': \"Ethereum ( ETH ) 's Vitalik Buterin On Why Crypto Payments Are Superior\", 'url': 'https://www.benzinga.com/markets/cryptocurrency/22/08/28627632/ethereums-vitalik-buterin-on-why-crypto-payments-are-superior', 'time_published': '20220825T092655', 'authors': ['Samyuktha Sriram'], 'summary': 'Ethereum ETH/USD creator Vitalik Buterin believes that cryptocurrency payments are underrated. What Happened: In a tweet on Wednesday, Buterin said crypto payments could provide a significant boost to international business and charity.', 'banner_image': 'https://cdn.benzinga.com/files/images/story/2022/08/25/shutterstock_2029298183_3.jpg?width=1200&height=800&fit=crop', 'source': 'Benzinga', 'category_within_source': 'News', 'source_domain': 'www.benzinga.com', 'topics': [{'topic': 'Blockchain', 'relevance_score': '0.682689'}, {'topic': 'Financial Markets', 'relevance_score': '0.108179'}, {'topic': 'Manufacturing', 'relevance_score': '1.0'}], 'overall_sentiment_score': 0.24338, 'overall_sentiment_label': 'Somewhat-Bullish', 'ticker_sentiment': [{'ticker': 'AMC', 'relevance_score': '0.150592', 'ticker_sentiment_score': '0.244693', 'ticker_sentiment_label': 'Somewhat-Bullish'}, {'ticker': 'TSLA', 'relevance_score': '0.150592', 'ticker_sentiment_score': '0.244693', 'ticker_sentiment_label': 'Somewhat-Bullish'}, {'ticker': 'CRYPTO:BTC', 'relevance_score': '0.150592', 'ticker_sentiment_score': '-0.095145', 'ticker_sentiment_label': 'Neutral'}, {'ticker': 'CRYPTO:ETH', 'relevance_score': '0.22421', 'ticker_sentiment_score': '0.103035', 'ticker_sentiment_label': 'Neutral'}, {'ticker': 'CRYPTO:DOGE', 'relevance_score': '0.364987', 'ticker_sentiment_score': '0.267558', 'ticker_sentiment_label': 'Somewhat-Bullish'}]}, {'title': \"AMC's Two Stocks Are Out of Whack. Jim Chanos Is Taking Advantage.\", 'url': 'https://www.barrons.com/articles/amc-stock-arbitrage-jim-chanos-51661365309', 'time_published': '20220824T182300', 'authors': ['Al Root'], 'summary': 'AMC Stock Is Out of Whack With APE Shares. Jim Chanos Is Taking Advantage. ...', 'banner_image': 'https://images.barrons.com/im-609792/social', 'source': 'Barrons', 'category_within_source': 'n/a', 'source_domain': 'www.barrons.com', 'topics': [], 'overall_sentiment_score': 0.064052, 'overall_sentiment_label': 'Neutral', 'ticker_sentiment': [{'ticker': 'AMC', 'relevance_score': '0.524949', 'ticker_sentiment_score': '0.764583', 'ticker_sentiment_label': 'Bullish'}]}, {'title': 'AMC aims to roll out microwaveable popcorn', 'url': 'https://www.foxbusiness.com/lifestyle/amc-aims-roll-out-microwaveable-popcorn', 'time_published': '20220824T181027', 'authors': [], 'summary': 'AMC Entertainment wants Americans to snack on its popcorn while sitting at home. CEO Adam Aron tweeted Tuesday that he had \"yet another meeting\" taste-testing recipes for microwaveable and ready-to-eat AMC Theatres Perfectly Popcorn.', 'banner_image': 'https://cf-images.us-east-1.prod.boltdns.net/v1/static/854081161001/795f6fb7-e274-4757-a57e-092c92e2c036/dcbcba23-cfbd-4b6c-99bc-f397e2c1c690/1280x720/match/image.jpg', 'source': 'Fox Business News', 'category_within_source': 'n/a', 'source_domain': 'www.foxbusiness.com', 'topics': [{'topic': 'Earnings', 'relevance_score': '0.310843'}], 'overall_sentiment_score': 0.058906, 'overall_sentiment_label': 'Neutral', 'ticker_sentiment': [{'ticker': 'UBER', 'relevance_score': '0.271274', 'ticker_sentiment_score': '0.106185', 'ticker_sentiment_label': 'Neutral'}, {'ticker': 'AMC', 'relevance_score': '0.701875', 'ticker_sentiment_score': '0.183419', 'ticker_sentiment_label': 'Somewhat-Bullish'}]}, {'title': 'FATHOM EVENTS AND UNIVERSAL PICTURES ANNOUNCE A SPECIAL THREE-NIGHT BLOCK OF CLASSIC \"COM-ROMS\" TO CELEBRATE THE RELEASE OF THE NEW ROMANTIC COMEDY, BROS', 'url': 'https://www.benzinga.com/pressreleases/22/08/n28619598/fathom-events-and-universal-pictures-announce-a-special-three-night-block-of-classic-com-roms-to-c', 'time_published': '20220824T161700', 'authors': ['PRNewswire'], 'summary': 'The Special \"BROS Presents Your Favorite ComRoms\" Screenings Will Include Exclusive Pre-Show Commentary from BROS Director Nicholas Stoller and Stars Billy Eichner and Luke Macfarlane September 19, 20 and 21', 'banner_image': '', 'source': 'Benzinga', 'category_within_source': 'General', 'source_domain': 'www.benzinga.com', 'topics': [], 'overall_sentiment_score': 0.188127, 'overall_sentiment_label': 'Somewhat-Bullish', 'ticker_sentiment': [{'ticker': 'CNK', 'relevance_score': '0.079524', 'ticker_sentiment_score': '0.130174', 'ticker_sentiment_label': 'Neutral'}, {'ticker': 'CNNWF', 'relevance_score': '0.039811', 'ticker_sentiment_score': '0.124468', 'ticker_sentiment_label': 'Neutral'}, {'ticker': 'AMC', 'relevance_score': '0.079524', 'ticker_sentiment_score': '0.130174', 'ticker_sentiment_label': 'Neutral'}]}, {'title': 'Is AMC Stock Overvalued? Blame Retail Investors, Analyst Says', 'url': 'https://www.benzinga.com/analyst-ratings/analyst-color/22/08/28617394/wedbush-analyst-alicia-reese-says-as-long-as-retail-investors-are-involved-with-amc', 'time_published': '20220824T155854', 'authors': ['AJ Fabino'], 'summary': \"Wedbush analyst Alicia Reese maintains AMC Entertainment Holdings Inc. AMC with a Underperform rating and lowered the movie theater chain's price target from $4 to $2.\", 'banner_image': 'https://cdn.benzinga.com/files/images/story/2022/08/24/screen_shot_2022-06-28_at_1.06.29_pm.png?width=1200&height=800&fit=crop', 'source': 'Benzinga', 'category_within_source': 'General', 'source_domain': 'www.benzinga.com', 'topics': [{'topic': 'Financial Markets', 'relevance_score': '0.684621'}], 'overall_sentiment_score': 0.160317, 'overall_sentiment_label': 'Somewhat-Bullish', 'ticker_sentiment': [{'ticker': 'CNK', 'relevance_score': '0.192183', 'ticker_sentiment_score': '0.12318', 'ticker_sentiment_label': 'Neutral'}, {'ticker': 'AMC', 'relevance_score': '0.483434', 'ticker_sentiment_score': '0.212785', 'ticker_sentiment_label': 'Somewhat-Bullish'}]}, {'title': 'AMC Stock Has a New 800-Pound Gorilla in the Room', 'url': 'https://www.fool.com/investing/2022/08/24/amc-stock-investors-dont-need-to-fear-analyst-pric/', 'time_published': '20220824T143000', 'authors': ['Rick Munarriz'], 'summary': 'The multiplex operator completed distribution of new preferred equity units as a dividend this week.', 'banner_image': 'https://g.foolcdn.com/image/?url=https%3A%2F%2Fg.foolcdn.com%2Feditorial%2Fimages%2F697663%2Fgettyimages-187999774.jpg&w=700&op=resize', 'source': 'Motley Fool', 'category_within_source': 'n/a', 'source_domain': 'www.fool.com', 'topics': [{'topic': 'Financial Markets', 'relevance_score': '1.0'}], 'overall_sentiment_score': 0.147717, 'overall_sentiment_label': 'Neutral', 'ticker_sentiment': [{'ticker': 'AMC', 'relevance_score': '0.821161', 'ticker_sentiment_score': '0.267682', 'ticker_sentiment_label': 'Somewhat-Bullish'}]}, {'title': 'Another 483 Million Reasons to Steer Clear of AMC Stock', 'url': 'https://www.fool.com/investing/2022/08/24/another-4832-million-reasons-to-steer-clear-of-amc/', 'time_published': '20220824T135000', 'authors': ['James Brumley'], 'summary': \"There's more to the story than just the stock dividend that seemingly serves no purpose.\", 'banner_image': 'https://g.foolcdn.com/editorial/images/697738/frowning-movie-theater-viewers.jpg', 'source': 'Motley Fool', 'category_within_source': 'n/a', 'source_domain': 'www.fool.com', 'topics': [{'topic': 'Mergers & Acquisitions', 'relevance_score': '0.158519'}, {'topic': 'Energy & Transportation', 'relevance_score': '1.0'}, {'topic': 'Financial Markets', 'relevance_score': '1.0'}], 'overall_sentiment_score': 0.271255, 'overall_sentiment_label': 'Somewhat-Bullish', 'ticker_sentiment': [{'ticker': 'HYMC', 'relevance_score': '0.050679', 'ticker_sentiment_score': '0.164332', 'ticker_sentiment_label': 'Somewhat-Bullish'}, {'ticker': 'AMC', 'relevance_score': '0.59135', 'ticker_sentiment_score': '0.389648', 'ticker_sentiment_label': 'Bullish'}]}, {'title': 'Could This Be the Next Big Meme Stock?', 'url': 'https://www.fool.com/investing/2022/08/24/could-this-be-the-next-big-meme-stock/', 'time_published': '20220824T125000', 'authors': ['David Jagielski'], 'summary': \"Not only is Siga's share price up, but trading volumes are through the roof.\", 'banner_image': 'https://media.ycharts.com/charts/1c50ff2e71a15a83eca015d75e31db14.png', 'source': 'Motley Fool', 'category_within_source': 'n/a', 'source_domain': 'www.fool.com', 'topics': [{'topic': 'Life Sciences', 'relevance_score': '0.5'}, {'topic': 'Retail & Wholesale', 'relevance_score': '0.5'}, {'topic': 'Financial Markets', 'relevance_score': '0.503496'}], 'overall_sentiment_score': 0.114159, 'overall_sentiment_label': 'Neutral', 'ticker_sentiment': [{'ticker': 'BBBY', 'relevance_score': '0.059636', 'ticker_sentiment_score': '0.005049', 'ticker_sentiment_label': 'Neutral'}, {'ticker': 'MRNA', 'relevance_score': '0.11894', 'ticker_sentiment_score': '0.171019', 'ticker_sentiment_label': 'Somewhat-Bullish'}, {'ticker': 'SIGA', 'relevance_score': '0.11894', 'ticker_sentiment_score': '-0.065256', 'ticker_sentiment_label': 'Neutral'}, {'ticker': 'AMC', 'relevance_score': '0.059636', 'ticker_sentiment_score': '0.005049', 'ticker_sentiment_label': 'Neutral'}]}, {'title': 'Meme Stock Still On Pace For Best Month Since Jan. 2021', 'url': 'https://www.investors.com/news/meme-stock-on-pace-for-best-month-since-january-2021-despite-71-crash/', 'time_published': '20220824T110000', 'authors': ['ED CARSON', \"Investor's Business Daily\"], 'summary': \"Bed Bath & Beyond ( BBBY ) is on course for its best month since the start of 2021, when the meme stock phenomenon first exploded. That's despite BBBY stock crashing since a recent intraday high on Aug. 16.\", 'banner_image': 'https://www.investors.com/wp-content/uploads/2021/01/Stock-bedbathbeyond-01-adobe.jpg', 'source': 'Investors Business Daily', 'category_within_source': 'n/a', 'source_domain': 'www.investors.com', 'topics': [{'topic': 'Retail & Wholesale', 'relevance_score': '1.0'}, {'topic': 'Financial Markets', 'relevance_score': '1.0'}], 'overall_sentiment_score': 0.103579, 'overall_sentiment_label': 'Neutral', 'ticker_sentiment': [{'ticker': 'BBBY', 'relevance_score': '0.589589', 'ticker_sentiment_score': '0.095516', 'ticker_sentiment_label': 'Neutral'}, {'ticker': 'GME', 'relevance_score': '0.416844', 'ticker_sentiment_score': '0.10454', 'ticker_sentiment_label': 'Neutral'}, {'ticker': 'AMC', 'relevance_score': '0.685631', 'ticker_sentiment_score': '0.195869', 'ticker_sentiment_label': 'Somewhat-Bullish'}]}, {'title': \"Macy's, Palo Alto Networks And Other Big Gainers From Tuesday\", 'url': 'https://www.benzinga.com/news/22/08/28611833/macys-palo-alto-networks-and-other-big-gainers-from-tuesday', 'time_published': '20220824T091907', 'authors': ['Lisa Levin'], 'summary': 'U.S. stocks closed mostly lower with the Dow Jones dropping more than 150 points on Tuesday. Here is the list of some big stocks moving higher in the previous session. Aerie Pharmaceuticals, Inc. AERI shares jumped 36% to close at $15.16.', 'banner_image': 'https://cdn.benzinga.com/files/images/story/2022/08/24/image-macys.png?optimize=medium&dpr=2&auto=webp&width=3840', 'source': 'Benzinga', 'category_within_source': 'Trading', 'source_domain': 'www.benzinga.com', 'topics': [{'topic': 'Life Sciences', 'relevance_score': '0.2'}, {'topic': 'Energy & Transportation', 'relevance_score': '0.2'}, {'topic': 'Technology', 'relevance_score': '0.2'}, {'topic': 'Retail & Wholesale', 'relevance_score': '0.2'}, {'topic': 'Financial Markets', 'relevance_score': '0.108179'}, {'topic': 'Manufacturing', 'relevance_score': '0.2'}, {'topic': 'Earnings', 'relevance_score': '0.495866'}], 'overall_sentiment_score': 0.271728, 'overall_sentiment_label': 'Somewhat-Bullish', 'ticker_sentiment': [{'ticker': 'HPK', 'relevance_score': '0.131284', 'ticker_sentiment_score': '0.327451', 'ticker_sentiment_label': 'Somewhat-Bullish'}, {'ticker': 'SIX', 'relevance_score': '0.131284', 'ticker_sentiment_score': '0.0', 'ticker_sentiment_label': 'Neutral'}, {'ticker': 'XPVVV', 'relevance_score': '0.065866', 'ticker_sentiment_score': '0.324505', 'ticker_sentiment_label': 'Somewhat-Bullish'}, {'ticker': 'AERI', 'relevance_score': '0.195814', 'ticker_sentiment_score': '0.428307', 'ticker_sentiment_label': 'Bullish'}, {'ticker': 'M', 'relevance_score': '0.065866', 'ticker_sentiment_score': '0.293223', 'ticker_sentiment_label': 'Somewhat-Bullish'}, {'ticker': 'SID', 'relevance_score': '0.131284', 'ticker_sentiment_score': '0.320966', 'ticker_sentiment_label': 'Somewhat-Bullish'}, {'ticker': 'TRQ', 'relevance_score': '0.131284', 'ticker_sentiment_score': '0.320966', 'ticker_sentiment_label': 'Somewhat-Bullish'}, {'ticker': 'S', 'relevance_score': '0.065866', 'ticker_sentiment_score': '0.0', 'ticker_sentiment_label': 'Neutral'}, {'ticker': 'RLAY', 'relevance_score': '0.131284', 'ticker_sentiment_score': '0.320966', 'ticker_sentiment_label': 'Somewhat-Bullish'}, {'ticker': 'NOTE', 'relevance_score': '0.195814', 'ticker_sentiment_score': '0.184598', 'ticker_sentiment_label': 'Somewhat-Bullish'}, {'ticker': 'AMC', 'relevance_score': '0.065866', 'ticker_sentiment_score': '0.27205', 'ticker_sentiment_label': 'Somewhat-Bullish'}, {'ticker': 'ALC', 'relevance_score': '0.131284', 'ticker_sentiment_score': '0.340961', 'ticker_sentiment_label': 'Somewhat-Bullish'}, {'ticker': 'PAGS', 'relevance_score': '0.131284', 'ticker_sentiment_score': '0.320966', 'ticker_sentiment_label': 'Somewhat-Bullish'}, {'ticker': 'VERV', 'relevance_score': '0.195814', 'ticker_sentiment_score': '0.176422', 'ticker_sentiment_label': 'Somewhat-Bullish'}, {'ticker': 'NTLA', 'relevance_score': '0.259037', 'ticker_sentiment_score': '0.0', 'ticker_sentiment_label': 'Neutral'}, {'ticker': 'PANW', 'relevance_score': '0.065866', 'ticker_sentiment_score': '0.108825', 'ticker_sentiment_label': 'Neutral'}]}, {'title': \"How Biden's trustbusters plan to target private equity\", 'url': 'https://www.ft.com/content/23ba7449-5433-4513-bc72-7c1253100cfd', 'time_published': '20220824T040059', 'authors': [], 'summary': 'Plus, Revlon shareholders prepare for a fight and a court battle exposes tensions in the distressed debt sector ...', 'banner_image': 'https://www.ft.com/__origami/service/image/v2/images/raw/https%3A%2F%2Fd1e00ek4ebabms.cloudfront.net%2Fproduction%2Fb776923c-95c0-4308-b9be-7709fbd063b9.png?fit=scale-down&source=next&width=700', 'source': 'Financial Times', 'category_within_source': 'Markets', 'source_domain': 'www.ft.com', 'topics': [{'topic': 'Life Sciences', 'relevance_score': '0.333333'}, {'topic': 'Retail & Wholesale', 'relevance_score': '0.333333'}, {'topic': 'Financial Markets', 'relevance_score': '0.623304'}, {'topic': 'Mergers & Acquisitions', 'relevance_score': '0.360215'}, {'topic': 'Finance', 'relevance_score': '0.333333'}], 'overall_sentiment_score': -0.074704, 'overall_sentiment_label': 'Neutral', 'ticker_sentiment': [{'ticker': 'REV', 'relevance_score': '0.102122', 'ticker_sentiment_score': '0.029107', 'ticker_sentiment_label': 'Neutral'}, {'ticker': 'C', 'relevance_score': '0.025596', 'ticker_sentiment_score': '-0.070551', 'ticker_sentiment_label': 'Neutral'}, {'ticker': 'BX', 'relevance_score': '0.025596', 'ticker_sentiment_score': '0.045834', 'ticker_sentiment_label': 'Neutral'}, {'ticker': 'VPGLF', 'relevance_score': '0.051166', 'ticker_sentiment_score': '0.096442', 'ticker_sentiment_label': 'Neutral'}, {'ticker': 'AMC', 'relevance_score': '0.025596', 'ticker_sentiment_score': '-0.085533', 'ticker_sentiment_label': 'Neutral'}, {'ticker': 'BBBY', 'relevance_score': '0.025596', 'ticker_sentiment_score': '-0.085533', 'ticker_sentiment_label': 'Neutral'}, {'ticker': 'GME', 'relevance_score': '0.025596', 'ticker_sentiment_score': '-0.085533', 'ticker_sentiment_label': 'Neutral'}]}, {'title': 'First Look At The APE Chart As AMC Entertainment Preferred Equity Units Begin Trading', 'url': 'https://www.benzinga.com/trading-ideas/long-ideas/22/08/28606485/a-first-look-at-amc-entertainments-preferred-equity-units-ape-chart-as-the-stock-begins-', 'time_published': '20220823T194834', 'authors': ['Melanie Schaffer'], 'summary': 'AMC Entertainment Holdings, Inc AMC Preferred Equity APE began trading on Monday, opening at $7.01 and surging to $10.46 within the first 30 minutes of the market open before entering into a sharp decline. APE units were halted several times intraday due to the high level of volatility.', 'banner_image': 'https://cdn.benzinga.com/files/images/story/2022/08/23/shutterstock_1843480531.jpg?width=1200&height=800&fit=crop', 'source': 'Benzinga', 'category_within_source': 'Trading', 'source_domain': 'www.benzinga.com', 'topics': [{'topic': 'Financial Markets', 'relevance_score': '0.999987'}], 'overall_sentiment_score': 0.141368, 'overall_sentiment_label': 'Neutral', 'ticker_sentiment': [{'ticker': 'SCFR', 'relevance_score': '0.058759', 'ticker_sentiment_score': '0.061007', 'ticker_sentiment_label': 'Neutral'}, {'ticker': 'AMC', 'relevance_score': '0.287537', 'ticker_sentiment_score': '0.034688', 'ticker_sentiment_label': 'Neutral'}]}, {'title': 'Short Seller Jim Chanos Buys APE Shares: Why Is He Taking A Long Position In AMC Preferred Equity?', 'url': 'https://www.benzinga.com/trading-ideas/long-ideas/22/08/28605487/jim-chanos-just-announced-a-long-position-in-amc-preferred-equity-heres-why-the-short-se', 'time_published': '20220823T182914', 'authors': ['Adam Eckert'], 'summary': 'Famed short seller Jim Chanos has announced a long position in AMC Preferred Equity Units APE as part of an arbitrage play. What Happened: Chanos announced that he initiated a position in APE shares Tuesday on CNBC\\'s \"Fast Money Halftime Report.\"', 'banner_image': 'https://cdn.benzinga.com/files/images/story/2022/08/23/chanos.png?width=1200&height=800&fit=crop', 'source': 'Benzinga', 'category_within_source': 'Trading', 'source_domain': 'www.benzinga.com', 'topics': [{'topic': 'Financial Markets', 'relevance_score': '0.992549'}], 'overall_sentiment_score': 0.235806, 'overall_sentiment_label': 'Somewhat-Bullish', 'ticker_sentiment': [{'ticker': 'AMC', 'relevance_score': '0.617765', 'ticker_sentiment_score': '0.609254', 'ticker_sentiment_label': 'Bullish'}]}, {'title': 'Is the golden age of the meme stock rally over?', 'url': 'https://www.marketwatch.com/story/is-the-golden-age-of-the-meme-stock-rally-over-11661276474', 'time_published': '20220823T174100', 'authors': ['James Rogers'], 'summary': 'A number of factors could cause meme stock rallies to taper off, according to Dan Raju, CEO of cloud-based financial services provider Tradier.', 'banner_image': 'https://images.mktw.net/im-516761/social', 'source': 'MarketWatch', 'category_within_source': 'Top Stories', 'source_domain': 'www.marketwatch.com', 'topics': [{'topic': 'Retail & Wholesale', 'relevance_score': '0.5'}, {'topic': 'Financial Markets', 'relevance_score': '0.998682'}, {'topic': 'Manufacturing', 'relevance_score': '0.5'}, {'topic': 'Blockchain', 'relevance_score': '0.158519'}], 'overall_sentiment_score': 0.152687, 'overall_sentiment_label': 'Somewhat-Bullish', 'ticker_sentiment': [{'ticker': 'BBBY', 'relevance_score': '0.154951', 'ticker_sentiment_score': '0.096453', 'ticker_sentiment_label': 'Neutral'}, {'ticker': 'GME', 'relevance_score': '0.304114', 'ticker_sentiment_score': '0.143551', 'ticker_sentiment_label': 'Neutral'}, {'ticker': 'WEBR', 'relevance_score': '0.154951', 'ticker_sentiment_score': '0.09194', 'ticker_sentiment_label': 'Neutral'}, {'ticker': 'AMC', 'relevance_score': '0.442339', 'ticker_sentiment_score': '0.188359', 'ticker_sentiment_label': 'Somewhat-Bullish'}]}, {'title': 'Why AMC Preferred Stock Was Popping Today', 'url': 'https://www.fool.com/investing/2022/08/23/why-amc-preferred-stock-was-popping-today/', 'time_published': '20220823T171512', 'authors': ['Jeremy Bowman'], 'summary': 'Investors are going ape for the new class of stock.', 'banner_image': 'https://g.foolcdn.com/editorial/images/697085/100-dollar-bill-benjamins-fire-burning-cash-getty.jpg', 'source': 'Motley Fool', 'category_within_source': 'n/a', 'source_domain': 'www.fool.com', 'topics': [{'topic': 'Financial Markets', 'relevance_score': '1.0'}], 'overall_sentiment_score': 0.147524, 'overall_sentiment_label': 'Neutral', 'ticker_sentiment': [{'ticker': 'AMC', 'relevance_score': '0.694939', 'ticker_sentiment_score': '0.261932', 'ticker_sentiment_label': 'Somewhat-Bullish'}]}, {'title': '\"JOHNNY CASH: THE REDEMPTION OF AN AMERICAN ICON\" Exclusively In Theaters December 5,6 & 7 Only', 'url': 'https://www.benzinga.com/pressreleases/22/08/n28604566/johnny-cash-the-redemption-of-an-american-icon-exclusively-in-theaters-december-5-6-7-only', 'time_published': '20220823T162500', 'authors': ['PRNewswire'], 'summary': 'NASHVILLE, Tenn., Aug. 23, 2022 /PRNewswire/ -- Fathom Events, Kingdom Story Company, WTA Media, and Harvest Ministries with Greg Laurie have partnered to release \"Johnny Cash: The Redemption of an American Icon\" this fall.', 'banner_image': '', 'source': 'Benzinga', 'category_within_source': 'General', 'source_domain': 'www.benzinga.com', 'topics': [{'topic': 'Technology', 'relevance_score': '0.5'}, {'topic': 'Manufacturing', 'relevance_score': '0.5'}], 'overall_sentiment_score': 0.26734, 'overall_sentiment_label': 'Somewhat-Bullish', 'ticker_sentiment': [{'ticker': 'NYT', 'relevance_score': '0.028122', 'ticker_sentiment_score': '0.16583', 'ticker_sentiment_label': 'Somewhat-Bullish'}, {'ticker': 'SNEJF', 'relevance_score': '0.028122', 'ticker_sentiment_score': '0.16583', 'ticker_sentiment_label': 'Somewhat-Bullish'}, {'ticker': 'CNK', 'relevance_score': '0.056209', 'ticker_sentiment_score': '0.130921', 'ticker_sentiment_label': 'Neutral'}, {'ticker': 'META', 'relevance_score': '0.028122', 'ticker_sentiment_score': '0.0', 'ticker_sentiment_label': 'Neutral'}, {'ticker': 'CNNWF', 'relevance_score': '0.028122', 'ticker_sentiment_score': '0.121801', 'ticker_sentiment_label': 'Neutral'}, {'ticker': 'AMC', 'relevance_score': '0.056209', 'ticker_sentiment_score': '0.130921', 'ticker_sentiment_label': 'Neutral'}]}, {'title': \"AMC Preferred Equity  ( APE )  Jumps As AMC Entertainment Stock Falls: What's Going On?\", 'url': 'https://www.benzinga.com/analyst-ratings/price-target/22/08/28604153/amc-preferred-equity-ape-jumps-as-amc-entertainment-stock-falls-whats-going-on', 'time_published': '20220823T162026', 'authors': ['Adam Eckert'], 'summary': \"AMC Entertainment Holdings Inc AMC shares are trading lower Tuesday, while AMC Preferred Equity Units APE surge - what's going on? AMC declared a special dividend in the form of APE, or AMC Preferred Equity units at the beginning of the month.\", 'banner_image': 'https://cdn.benzinga.com/files/images/story/2022/08/23/51174796915_ec08909302_k.jpg?width=1200&height=800&fit=crop', 'source': 'Benzinga', 'category_within_source': 'Trading', 'source_domain': 'www.benzinga.com', 'topics': [{'topic': 'Financial Markets', 'relevance_score': '0.999999'}], 'overall_sentiment_score': 0.184937, 'overall_sentiment_label': 'Somewhat-Bullish', 'ticker_sentiment': [{'ticker': 'AMC', 'relevance_score': '0.82082', 'ticker_sentiment_score': '0.330589', 'ticker_sentiment_label': 'Somewhat-Bullish'}]}, {'title': \"MoviePass Is Coming, but AMC Shouldn't Be Worried\", 'url': 'https://www.fool.com/investing/2022/08/23/moviepass-is-coming-but-amc-shouldnt-be-worried/', 'time_published': '20220823T142000', 'authors': ['Rick Munarriz'], 'summary': 'One of the worst business models is trying to revive the brand with a more sustainable strategy. You know how this movie will end.', 'banner_image': 'https://g.foolcdn.com/image/?url=https%3A%2F%2Fg.foolcdn.com%2Feditorial%2Fimages%2F697640%2Fgettyimages-6427-000117a.jpg&w=700&op=resize', 'source': 'Motley Fool', 'category_within_source': 'n/a', 'source_domain': 'www.fool.com', 'topics': [{'topic': 'Earnings', 'relevance_score': '0.158519'}], 'overall_sentiment_score': -0.026737, 'overall_sentiment_label': 'Neutral', 'ticker_sentiment': [{'ticker': 'CNK', 'relevance_score': '0.169279', 'ticker_sentiment_score': '0.115851', 'ticker_sentiment_label': 'Neutral'}, {'ticker': 'AMC', 'relevance_score': '0.27838', 'ticker_sentiment_score': '0.036079', 'ticker_sentiment_label': 'Neutral'}]}, {'title': 'Company News for Aug 23, 2022', 'url': 'https://www.zacks.com/stock/news/1971187/company-news-for-aug-23-2022', 'time_published': '20220823T133400', 'authors': ['Zacks Investment Research'], 'summary': 'Companies in The News Are: NFLX, F, ...', 'banner_image': 'https://staticx-tuner.zacks.com/images/articles/main/be/92.jpg', 'source': 'Zacks Commentary', 'category_within_source': 'n/a', 'source_domain': 'www.zacks.com', 'topics': [{'topic': 'Life Sciences', 'relevance_score': '0.5'}, {'topic': 'Financial Markets', 'relevance_score': '0.684621'}, {'topic': 'Manufacturing', 'relevance_score': '0.5'}], 'overall_sentiment_score': -0.002512, 'overall_sentiment_label': 'Neutral', 'ticker_sentiment': [{'ticker': 'NFLX', 'relevance_score': '0.481177', 'ticker_sentiment_score': '0.192681', 'ticker_sentiment_label': 'Somewhat-Bullish'}, {'ticker': 'SGFY', 'relevance_score': '0.481177', 'ticker_sentiment_score': '0.139702', 'ticker_sentiment_label': 'Neutral'}, {'ticker': 'CNNWF', 'relevance_score': '0.252987', 'ticker_sentiment_score': '0.077106', 'ticker_sentiment_label': 'Neutral'}, {'ticker': 'F', 'relevance_score': '0.666827', 'ticker_sentiment_score': '-0.320059', 'ticker_sentiment_label': 'Somewhat-Bearish'}, {'ticker': 'AMC', 'relevance_score': '0.481177', 'ticker_sentiment_score': '0.122106', 'ticker_sentiment_label': 'Neutral'}]}, {'title': \"Will AMC's bold 'APE' strategy be a win for the cinema chain?\", 'url': 'https://www.marketwatch.com/story/will-amcs-bold-ape-strategy-be-a-win-for-the-cinema-chain-11661261413', 'time_published': '20220823T133000', 'authors': ['James Rogers'], 'summary': \"With its APE equity unit, AMC created something like a 2-for-1 stock split, marking the company's latest effort in a fight over stock issuances.\", 'banner_image': 'https://images.mktw.net/im-608882/social', 'source': 'MarketWatch', 'category_within_source': 'Top Stories', 'source_domain': 'www.marketwatch.com', 'topics': [{'topic': 'Retail & Wholesale', 'relevance_score': '1.0'}, {'topic': 'Blockchain', 'relevance_score': '0.158519'}, {'topic': 'Financial Markets', 'relevance_score': '0.999999'}], 'overall_sentiment_score': 0.031483, 'overall_sentiment_label': 'Neutral', 'ticker_sentiment': [{'ticker': 'CNNWF', 'relevance_score': '0.128592', 'ticker_sentiment_score': '-0.048995', 'ticker_sentiment_label': 'Neutral'}, {'ticker': 'GME', 'relevance_score': '0.04303', 'ticker_sentiment_score': '-0.194229', 'ticker_sentiment_label': 'Somewhat-Bearish'}, {'ticker': 'AMC', 'relevance_score': '0.905606', 'ticker_sentiment_score': '0.089386', 'ticker_sentiment_label': 'Neutral'}]}, {'title': 'AMC Entertainment Price Target Cut By This Analyst, Plus DA Davidson Predicts $318 For Estée Lauder', 'url': 'https://www.benzinga.com/news/22/08/28599474/amc-entertainment-price-target-cut-by-this-analyst-plus-da-davidson-predicts-318-for-est-e-lauder', 'time_published': '20220823T124854', 'authors': ['Lisa Levin'], 'summary': 'DA Davidson cut the price target for The Estée Lauder Companies Inc. EL from $342 to $318. Estée Lauder shares fell 0.4% to $264.29 in pre-market trading. Keybanc raised the price target on Palo Alto Networks, Inc. PANW from $630 to $680. Palo Alto Networks shares rose 9.8% to $558.00 in ...', 'banner_image': 'https://cdn.benzinga.com/files/images/story/2022/08/23/image49.jpg?optimize=medium&dpr=2&auto=webp&width=3840', 'source': 'Benzinga', 'category_within_source': 'Markets', 'source_domain': 'www.benzinga.com', 'topics': [{'topic': 'Life Sciences', 'relevance_score': '0.166667'}, {'topic': 'Energy & Transportation', 'relevance_score': '0.166667'}, {'topic': 'Technology', 'relevance_score': '0.166667'}, {'topic': 'Finance', 'relevance_score': '0.166667'}, {'topic': 'Retail & Wholesale', 'relevance_score': '0.166667'}, {'topic': 'Financial Markets', 'relevance_score': '0.503496'}, {'topic': 'Manufacturing', 'relevance_score': '0.166667'}], 'overall_sentiment_score': 0.090005, 'overall_sentiment_label': 'Neutral', 'ticker_sentiment': [{'ticker': 'PHVS', 'relevance_score': '0.226301', 'ticker_sentiment_score': '-0.207045', 'ticker_sentiment_label': 'Somewhat-Bearish'}, {'ticker': 'BCS', 'relevance_score': '0.076358', 'ticker_sentiment_score': '-0.035096', 'ticker_sentiment_label': 'Neutral'}, {'ticker': 'AERI', 'relevance_score': '0.226301', 'ticker_sentiment_score': '0.007218', 'ticker_sentiment_label': 'Neutral'}, {'ticker': 'OXM', 'relevance_score': '0.226301', 'ticker_sentiment_score': '-0.055819', 'ticker_sentiment_label': 'Neutral'}, {'ticker': 'FL', 'relevance_score': '0.226301', 'ticker_sentiment_score': '0.0', 'ticker_sentiment_label': 'Neutral'}, {'ticker': 'MS', 'relevance_score': '0.076358', 'ticker_sentiment_score': '-0.118857', 'ticker_sentiment_label': 'Neutral'}, {'ticker': 'AMC', 'relevance_score': '0.226301', 'ticker_sentiment_score': '0.007218', 'ticker_sentiment_label': 'Neutral'}, {'ticker': 'VEEV', 'relevance_score': '0.152018', 'ticker_sentiment_score': '-0.046148', 'ticker_sentiment_label': 'Neutral'}, {'ticker': 'EOG', 'relevance_score': '0.226301', 'ticker_sentiment_score': '0.0', 'ticker_sentiment_label': 'Neutral'}, {'ticker': 'AXSM', 'relevance_score': '0.226301', 'ticker_sentiment_score': '0.161589', 'ticker_sentiment_label': 'Somewhat-Bullish'}, {'ticker': 'PANW', 'relevance_score': '0.226301', 'ticker_sentiment_score': '0.168363', 'ticker_sentiment_label': 'Somewhat-Bullish'}]}, {'title': \"The euro sank below parity for the second time this year on Monday. Here's what's moving currency markets.\", 'url': 'https://markets.businessinsider.com/news/stocks/top-nyse-strategist-explains-dollar-euro-fed-hikes-currency-markets-2022-8', 'time_published': '20220823T104000', 'authors': ['Phil Rosen'], 'summary': \"Howdy Opening Bell crew. Phil Rosen here, reporting from Wall Street. Yesterday, for the second time this year, I watched the euro slip below the dollar. As compelled as I was to immediately book a flight to the continent, instead I decided to bring you all the details of what's happening with ...\", 'banner_image': None, 'source': 'Business Insider', 'category_within_source': 'n/a', 'source_domain': 'markets.businessinsider.com', 'topics': [{'topic': 'Economy - Monetary', 'relevance_score': '0.310843'}, {'topic': 'Retail & Wholesale', 'relevance_score': '0.5'}, {'topic': 'Financial Markets', 'relevance_score': '0.918141'}, {'topic': 'Finance', 'relevance_score': '0.5'}], 'overall_sentiment_score': 0.019308, 'overall_sentiment_label': 'Neutral', 'ticker_sentiment': [{'ticker': 'JWN', 'relevance_score': '0.044801', 'ticker_sentiment_score': '0.039111', 'ticker_sentiment_label': 'Neutral'}, {'ticker': 'WFC', 'relevance_score': '0.044801', 'ticker_sentiment_score': '-0.076771', 'ticker_sentiment_label': 'Neutral'}, {'ticker': 'JPM', 'relevance_score': '0.044801', 'ticker_sentiment_score': '0.0', 'ticker_sentiment_label': 'Neutral'}, {'ticker': 'AMC', 'relevance_score': '0.044801', 'ticker_sentiment_score': '0.155922', 'ticker_sentiment_label': 'Somewhat-Bullish'}, {'ticker': 'BBBY', 'relevance_score': '0.044801', 'ticker_sentiment_score': '0.169116', 'ticker_sentiment_label': 'Somewhat-Bullish'}, {'ticker': 'MORN', 'relevance_score': '0.044801', 'ticker_sentiment_score': '0.166893', 'ticker_sentiment_label': 'Somewhat-Bullish'}, {'ticker': 'GS', 'relevance_score': '0.044801', 'ticker_sentiment_score': '0.115377', 'ticker_sentiment_label': 'Neutral'}, {'ticker': 'M', 'relevance_score': '0.044801', 'ticker_sentiment_score': '0.039111', 'ticker_sentiment_label': 'Neutral'}, {'ticker': 'FOREX:JPY', 'relevance_score': '0.044801', 'ticker_sentiment_score': '-0.205868', 'ticker_sentiment_label': 'Somewhat-Bearish'}, {'ticker': 'FOREX:EUR', 'relevance_score': '0.133841', 'ticker_sentiment_score': '-0.156081', 'ticker_sentiment_label': 'Somewhat-Bearish'}, {'ticker': 'FOREX:USD', 'relevance_score': '0.133841', 'ticker_sentiment_score': '-0.101492', 'ticker_sentiment_label': 'Neutral'}]}, {'title': \"Explainer: How meme stock darling AMC's new preferred shares work\", 'url': 'https://www.reuters.com/markets/europe/how-meme-stock-darling-amcs-new-preferred-shares-work-2022-08-23/', 'time_published': '20220823T090400', 'authors': ['Reuters'], 'summary': 'An AMC theatre is pictured in Times Square in the Manhattan borough of New York City, New York, U.S., June 2, 2021. REUTERS/Carlo Allegri', 'banner_image': 'https://cloudfront-us-east-2.images.arcpublishing.com/reuters/ROLXH4LSEJMJ5P6F7YVRVVBVXY.jpg', 'source': 'Reuters', 'category_within_source': 'Markets', 'source_domain': 'www.reuters.com', 'topics': [{'topic': 'Blockchain', 'relevance_score': '0.310843'}, {'topic': 'Financial Markets', 'relevance_score': '0.999701'}], 'overall_sentiment_score': 0.34814, 'overall_sentiment_label': 'Somewhat-Bullish', 'ticker_sentiment': [{'ticker': 'CNNWF', 'relevance_score': '0.061315', 'ticker_sentiment_score': '-0.013168', 'ticker_sentiment_label': 'Neutral'}, {'ticker': 'AMC', 'relevance_score': '0.751437', 'ticker_sentiment_score': '0.558863', 'ticker_sentiment_label': 'Bullish'}]}, {'title': 'Fears of an aggressive Fed trigger worst fall in two months', 'url': 'https://www.moneycontrol.com/news/business/markets/wall-street-ends-sharply-lower-on-fears-of-aggressive-fed-9071391.html', 'time_published': '20220823T004432', 'authors': [], 'summary': 'All 11 SP 500 sector indexes declined, led lower by consumer discretionary ( .SPLRCD ) , down 2.84%, followed by a 2.78% loss in information technology ( .SPLRCT ) .', 'banner_image': 'https://images.moneycontrol.com/static-mcnews/2020/08/wall-street-1.jpg?impolicy=website&width=168&height=118', 'source': 'Money Control', 'category_within_source': 'Markets', 'source_domain': 'www.moneycontrol.com', 'topics': [{'topic': 'Life Sciences', 'relevance_score': '0.2'}, {'topic': 'Technology', 'relevance_score': '0.2'}, {'topic': 'Finance', 'relevance_score': '0.2'}, {'topic': 'Economy - Monetary', 'relevance_score': '0.838487'}, {'topic': 'Retail & Wholesale', 'relevance_score': '0.2'}, {'topic': 'Financial Markets', 'relevance_score': '0.918141'}, {'topic': 'Manufacturing', 'relevance_score': '0.2'}], 'overall_sentiment_score': -0.226845, 'overall_sentiment_label': 'Somewhat-Bearish', 'ticker_sentiment': [{'ticker': 'MSFT', 'relevance_score': '0.066598', 'ticker_sentiment_score': '-0.097736', 'ticker_sentiment_label': 'Neutral'}, {'ticker': 'CVS', 'relevance_score': '0.066598', 'ticker_sentiment_score': '0.082145', 'ticker_sentiment_label': 'Neutral'}, {'ticker': 'NVDA', 'relevance_score': '0.066598', 'ticker_sentiment_score': '-0.097736', 'ticker_sentiment_label': 'Neutral'}, {'ticker': 'SGFY', 'relevance_score': '0.066598', 'ticker_sentiment_score': '0.082145', 'ticker_sentiment_label': 'Neutral'}, {'ticker': 'AAPL', 'relevance_score': '0.066598', 'ticker_sentiment_score': '-0.097736', 'ticker_sentiment_label': 'Neutral'}, {'ticker': 'OPCH', 'relevance_score': '0.066598', 'ticker_sentiment_score': '0.082145', 'ticker_sentiment_label': 'Neutral'}, {'ticker': 'CNNWF', 'relevance_score': '0.066598', 'ticker_sentiment_score': '-0.28519', 'ticker_sentiment_label': 'Somewhat-Bearish'}, {'ticker': 'AMC', 'relevance_score': '0.066598', 'ticker_sentiment_score': '-0.28519', 'ticker_sentiment_label': 'Somewhat-Bearish'}, {'ticker': 'UNH', 'relevance_score': '0.066598', 'ticker_sentiment_score': '0.082145', 'ticker_sentiment_label': 'Neutral'}]}, {'title': \"Jim Cramer: Here's why meme-stock manias are bad news for the Nasdaq\", 'url': 'https://www.cnbc.com/2022/08/22/jim-cramer-heres-why-meme-stock-manias-are-bad-news-for-the-nasdaq-.html', 'time_published': '20220822T224115', 'authors': ['Kevin Stankiewicz'], 'summary': '\"Mad Money\" host Jim Cramer on Monday explained why history shows meme-stock froth can spill over into the broader market.', 'banner_image': 'https://image.cnbcfm.com/api/v1/image/107076311-1655347405607-IMG_1893rb.jpg?v=1655347428&w=1920&h=1080', 'source': 'CNBC', 'category_within_source': 'Business', 'source_domain': 'www.cnbc.com', 'topics': [{'topic': 'Technology', 'relevance_score': '0.5'}, {'topic': 'Retail & Wholesale', 'relevance_score': '0.5'}, {'topic': 'Financial Markets', 'relevance_score': '0.986714'}], 'overall_sentiment_score': -0.100554, 'overall_sentiment_label': 'Neutral', 'ticker_sentiment': [{'ticker': 'BBBY', 'relevance_score': '0.136113', 'ticker_sentiment_score': '-0.050257', 'ticker_sentiment_label': 'Neutral'}, {'ticker': 'META', 'relevance_score': '0.068306', 'ticker_sentiment_score': '-0.089874', 'ticker_sentiment_label': 'Neutral'}, {'ticker': 'GME', 'relevance_score': '0.202932', 'ticker_sentiment_score': '-0.044026', 'ticker_sentiment_label': 'Neutral'}, {'ticker': 'AMC', 'relevance_score': '0.068306', 'ticker_sentiment_score': '-0.059537', 'ticker_sentiment_label': 'Neutral'}]}, {'title': 'O.G. Meme MoviePass Is Making A Comeback Fit For Scorsese: Subscriptions, Waitlists And More', 'url': 'https://www.benzinga.com/general/entertainment/22/08/28592041/moviepass-is-returning-offering-movie-lovers-subscription-plans-for-theaters-heres-when-it-', 'time_published': '20220822T214143', 'authors': ['Chris Katje'], 'summary': 'Coming back from the cinematic graveyard is MoviePass, a subscription movie service for the movie theater segment that could have been years ahead of its time. Here are the new details and when you can sign up for the new launch.', 'banner_image': 'https://cdn.benzinga.com/files/images/story/2022/08/22/shutterstock_1571598802.jpg?width=1200&height=800&fit=crop', 'source': 'Benzinga', 'category_within_source': 'General', 'source_domain': 'www.benzinga.com', 'topics': [{'topic': 'Mergers & Acquisitions', 'relevance_score': '0.108179'}, {'topic': 'Life Sciences', 'relevance_score': '0.5'}, {'topic': 'Manufacturing', 'relevance_score': '0.5'}], 'overall_sentiment_score': 0.173684, 'overall_sentiment_label': 'Somewhat-Bullish', 'ticker_sentiment': [{'ticker': 'NFLX', 'relevance_score': '0.04531', 'ticker_sentiment_score': '0.121466', 'ticker_sentiment_label': 'Neutral'}, {'ticker': 'BBIG', 'relevance_score': '0.135347', 'ticker_sentiment_score': '0.066954', 'ticker_sentiment_label': 'Neutral'}, {'ticker': 'CNK', 'relevance_score': '0.090474', 'ticker_sentiment_score': '0.072535', 'ticker_sentiment_label': 'Neutral'}, {'ticker': 'IMAX', 'relevance_score': '0.179788', 'ticker_sentiment_score': '0.107109', 'ticker_sentiment_label': 'Neutral'}, {'ticker': 'AMC', 'relevance_score': '0.090474', 'ticker_sentiment_score': '0.072535', 'ticker_sentiment_label': 'Neutral'}]}, {'title': 'Meme stock lifelines show signs of fragility: AMC and Bed Bath & Beyond suddenly plunging', 'url': 'https://www.axios.com/2022/08/22/meme-stock-ape-amc-bed-bath-beyond', 'time_published': '20220822T211251', 'authors': ['Nathan Bomey', '/authors/nbomey'], 'summary': 'Companies that look like they had a new lease on life courtesy of the meme stock movement are suddenly being forced to ponder their prospects without retail traders backing them up.', 'banner_image': 'https://images.axios.com/7UeFA26XN3pNnUOGpJ5t6PuGjN4=/0x0:1920x1080/1920x1080/2022/08/22/1661189762088.jpg?w=1920', 'source': 'Axios', 'category_within_source': 'Markets', 'source_domain': 'www.axios.com', 'topics': [{'topic': 'Retail & Wholesale', 'relevance_score': '1.0'}, {'topic': 'Financial Markets', 'relevance_score': '0.995077'}], 'overall_sentiment_score': 0.097379, 'overall_sentiment_label': 'Neutral', 'ticker_sentiment': [{'ticker': 'BBBY', 'relevance_score': '0.091509', 'ticker_sentiment_score': '0.197782', 'ticker_sentiment_label': 'Somewhat-Bullish'}, {'ticker': 'NFLX', 'relevance_score': '0.091509', 'ticker_sentiment_score': '-0.072879', 'ticker_sentiment_label': 'Neutral'}, {'ticker': 'WBD', 'relevance_score': '0.091509', 'ticker_sentiment_score': '-0.072879', 'ticker_sentiment_label': 'Neutral'}, {'ticker': 'CNNWF', 'relevance_score': '0.091509', 'ticker_sentiment_score': '0.12162', 'ticker_sentiment_label': 'Neutral'}, {'ticker': 'GME', 'relevance_score': '0.091509', 'ticker_sentiment_score': '0.197782', 'ticker_sentiment_label': 'Somewhat-Bullish'}, {'ticker': 'AMC', 'relevance_score': '0.578948', 'ticker_sentiment_score': '0.158366', 'ticker_sentiment_label': 'Somewhat-Bullish'}]}, {'title': \"AMC Entertainment's New APE Stock Comes With a Big Catch\", 'url': 'https://www.fool.com/investing/2022/08/22/amc-entertainments-new-ape-stock-comes-with-a-big/', 'time_published': '20220822T202300', 'authors': ['Travis Hoium'], 'summary': 'Believe it or not, investors in AMC have made money today.', 'banner_image': 'https://g.foolcdn.com/editorial/images/696819/couple-at-a-movie-theater-screening.jpg', 'source': 'Motley Fool', 'category_within_source': 'n/a', 'source_domain': 'www.fool.com', 'topics': [{'topic': 'Financial Markets', 'relevance_score': '0.77141'}], 'overall_sentiment_score': 0.145701, 'overall_sentiment_label': 'Neutral', 'ticker_sentiment': [{'ticker': 'AMC', 'relevance_score': '0.989872', 'ticker_sentiment_score': '0.364353', 'ticker_sentiment_label': 'Bullish'}]}, {'title': \"Bed Bath & Beyond's stock tumbles amid meme-stock selloff and cash concerns\", 'url': 'https://www.marketwatch.com/story/bed-bath-beyonds-stock-tumbles-amid-meme-stock-selloff-and-cash-concerns-11661196661', 'time_published': '20220822T200500', 'authors': ['James Rogers'], 'summary': 'Bed Bath & Beyond is having an eventful few weeks.', 'banner_image': 'https://images.mktw.net/im-599795/social', 'source': 'MarketWatch', 'category_within_source': 'Top Stories', 'source_domain': 'www.marketwatch.com', 'topics': [{'topic': 'Retail & Wholesale', 'relevance_score': '0.5'}, {'topic': 'Financial Markets', 'relevance_score': '0.905476'}, {'topic': 'Manufacturing', 'relevance_score': '0.5'}], 'overall_sentiment_score': -0.158707, 'overall_sentiment_label': 'Somewhat-Bearish', 'ticker_sentiment': [{'ticker': 'BBBY', 'relevance_score': '0.565003', 'ticker_sentiment_score': '-0.083213', 'ticker_sentiment_label': 'Neutral'}, {'ticker': 'GME', 'relevance_score': '0.262052', 'ticker_sentiment_score': '-0.274382', 'ticker_sentiment_label': 'Somewhat-Bearish'}, {'ticker': 'WEBR', 'relevance_score': '0.176502', 'ticker_sentiment_score': '-0.032276', 'ticker_sentiment_label': 'Neutral'}, {'ticker': 'AMC', 'relevance_score': '0.262052', 'ticker_sentiment_score': '-0.274382', 'ticker_sentiment_label': 'Somewhat-Bearish'}]}, {'title': 'Why Blue Apron Stock Skyrocketed Today', 'url': 'https://www.fool.com/investing/2022/08/22/why-blue-apron-stock-skyrocketed-today/', 'time_published': '20220822T200400', 'authors': ['Jeremy Bowman'], 'summary': 'A continued short squeeze lifted the meal kit stock.', 'banner_image': 'https://g.foolcdn.com/editorial/images/696807/meal-kit-with-all-the-ingredients-to-make-a-salad.jpg', 'source': 'Motley Fool', 'category_within_source': 'n/a', 'source_domain': 'www.fool.com', 'topics': [{'topic': 'Earnings', 'relevance_score': '0.538269'}, {'topic': 'Retail & Wholesale', 'relevance_score': '1.0'}, {'topic': 'Financial Markets', 'relevance_score': '0.459462'}], 'overall_sentiment_score': 0.060684, 'overall_sentiment_label': 'Neutral', 'ticker_sentiment': [{'ticker': 'BBBY', 'relevance_score': '0.101154', 'ticker_sentiment_score': '0.047973', 'ticker_sentiment_label': 'Neutral'}, {'ticker': 'APRN', 'relevance_score': '0.690822', 'ticker_sentiment_score': '0.103917', 'ticker_sentiment_label': 'Neutral'}, {'ticker': 'AMC', 'relevance_score': '0.101154', 'ticker_sentiment_score': '0.047973', 'ticker_sentiment_label': 'Neutral'}]}, {'title': 'Stocks fall broadly on Wall Street, extending market losses', 'url': 'https://apnews.com/article/inflation-stock-markets-asia-tokyo-china-7e9e3baf137a11c323f7a4adb79a43e1', 'time_published': '20220822T200345', 'authors': [], 'summary': \"Another broad stock market sell-off on Monday deepened Wall Street's losses from last week, leaving the S&P 500 with its biggest slide since mid-June. The benchmark index fell 2.1%, nearly doubling its losses from last week, when it broke a four-week winning streak.\", 'banner_image': 'https://storage.googleapis.com/afs-prod/media/a8f102f47caa4ad3be0ece4d33f3abdf/3000.jpeg', 'source': 'Associated Press', 'category_within_source': 'Markets', 'source_domain': 'apnews.com', 'topics': [{'topic': 'Economy - Monetary', 'relevance_score': '0.990678'}, {'topic': 'Life Sciences', 'relevance_score': '0.333333'}, {'topic': 'Financial Markets', 'relevance_score': '0.929393'}, {'topic': 'Technology', 'relevance_score': '0.333333'}, {'topic': 'Finance', 'relevance_score': '0.333333'}], 'overall_sentiment_score': -0.234838, 'overall_sentiment_label': 'Somewhat-Bearish', 'ticker_sentiment': [{'ticker': 'MSFT', 'relevance_score': '0.058903', 'ticker_sentiment_score': '-0.141217', 'ticker_sentiment_label': 'Neutral'}, {'ticker': 'NFLX', 'relevance_score': '0.058903', 'ticker_sentiment_score': '-0.141217', 'ticker_sentiment_label': 'Neutral'}, {'ticker': 'CNK', 'relevance_score': '0.058903', 'ticker_sentiment_score': '-0.308189', 'ticker_sentiment_label': 'Somewhat-Bearish'}, {'ticker': 'SGFY', 'relevance_score': '0.058903', 'ticker_sentiment_score': '0.180006', 'ticker_sentiment_label': 'Somewhat-Bullish'}, {'ticker': 'CNNWF', 'relevance_score': '0.058903', 'ticker_sentiment_score': '-0.308189', 'ticker_sentiment_label': 'Somewhat-Bearish'}, {'ticker': 'JPM', 'relevance_score': '0.058903', 'ticker_sentiment_score': '-0.141217', 'ticker_sentiment_label': 'Neutral'}, {'ticker': 'AMC', 'relevance_score': '0.058903', 'ticker_sentiment_score': '-0.308189', 'ticker_sentiment_label': 'Somewhat-Bearish'}, {'ticker': 'LPLA', 'relevance_score': '0.058903', 'ticker_sentiment_score': '-0.136', 'ticker_sentiment_label': 'Neutral'}]}, {'title': 'Dow Jones Dives; Tesla Slides After Elon Musk Move; AMC Stock Tumbles As Rival Nears Bankruptcy', 'url': 'https://www.investors.com/market-trend/stock-market-today/dow-jones-dives-tesla-stock-slips-after-elon-musk-move-amc-stock-craters-as-rival-nears-bankruptcy/', 'time_published': '20220822T191900', 'authors': ['MICHAEL LARKIN', \"Investor's Business Daily\"], 'summary': \"Dow Jones Dives. Tesla Slides After Elon Musk Move. AMC Stock Tumbles As Rival Nears Bankruptcy Investor's Business Daily ...\", 'banner_image': 'https://www.investors.com/wp-content/uploads/2020/06/Stock-musktesla-03-shutt.jpg', 'source': 'Investors Business Daily', 'category_within_source': 'n/a', 'source_domain': 'www.investors.com', 'topics': [{'topic': 'Life Sciences', 'relevance_score': '0.2'}, {'topic': 'Technology', 'relevance_score': '0.2'}, {'topic': 'Finance', 'relevance_score': '0.2'}, {'topic': 'Blockchain', 'relevance_score': '0.682689'}, {'topic': 'Retail & Wholesale', 'relevance_score': '0.2'}, {'topic': 'Financial Markets', 'relevance_score': '1.0'}, {'topic': 'Manufacturing', 'relevance_score': '0.2'}], 'overall_sentiment_score': -0.068336, 'overall_sentiment_label': 'Neutral', 'ticker_sentiment': [{'ticker': 'MSFT', 'relevance_score': '0.159834', 'ticker_sentiment_score': '-0.182695', 'ticker_sentiment_label': 'Somewhat-Bearish'}, {'ticker': 'NFLX', 'relevance_score': '0.080323', 'ticker_sentiment_score': '-0.336984', 'ticker_sentiment_label': 'Somewhat-Bearish'}, {'ticker': 'TSLA', 'relevance_score': '0.159834', 'ticker_sentiment_score': '-0.229109', 'ticker_sentiment_label': 'Somewhat-Bearish'}, {'ticker': 'CNNWF', 'relevance_score': '0.080323', 'ticker_sentiment_score': '-0.267298', 'ticker_sentiment_label': 'Somewhat-Bearish'}, {'ticker': 'INTC', 'relevance_score': '0.080323', 'ticker_sentiment_score': '-0.200025', 'ticker_sentiment_label': 'Somewhat-Bearish'}, {'ticker': 'AMC', 'relevance_score': '0.237745', 'ticker_sentiment_score': '-0.261637', 'ticker_sentiment_label': 'Somewhat-Bearish'}, {'ticker': 'BBBY', 'relevance_score': '0.12023', 'ticker_sentiment_score': '-0.156053', 'ticker_sentiment_label': 'Somewhat-Bearish'}, {'ticker': 'RIOT', 'relevance_score': '0.199037', 'ticker_sentiment_score': '-0.2415', 'ticker_sentiment_label': 'Somewhat-Bearish'}, {'ticker': 'SFM', 'relevance_score': '0.12023', 'ticker_sentiment_score': '0.102275', 'ticker_sentiment_label': 'Neutral'}, {'ticker': 'COIN', 'relevance_score': '0.159834', 'ticker_sentiment_score': '-0.204454', 'ticker_sentiment_label': 'Somewhat-Bearish'}, {'ticker': 'GME', 'relevance_score': '0.080323', 'ticker_sentiment_score': '-0.137141', 'ticker_sentiment_label': 'Neutral'}, {'ticker': 'CRYPTO:BTC', 'relevance_score': '0.159834', 'ticker_sentiment_score': '-0.137106', 'ticker_sentiment_label': 'Neutral'}]}, {'title': 'S&P 500 Drops More Than 2%; Signify Health Shares Spike Higher', 'url': 'https://www.benzinga.com/news/earnings/22/08/28590177/s-p-500-drops-more-than-2-signify-health-shares-spike-higher', 'time_published': '20220822T184739', 'authors': ['Lisa Levin'], 'summary': 'U.S. stocks traded lower toward the end of trading, with the Nasdaq Composite dropping more than 300 points on Monday. The Dow traded down 2.01% to 33,030.06 while the NASDAQ fell 2.64% to 12,369.50. The S&P 500 also fell, dropping, 2.24% to 4,133.77. Also check this: Investor Optimism Decreases ...', 'banner_image': 'https://cdn.benzinga.com/files/images/story/2022/08/22/image20.jpg?width=1200&height=800&fit=crop', 'source': 'Benzinga', 'category_within_source': 'Markets', 'source_domain': 'www.benzinga.com', 'topics': [{'topic': 'Life Sciences', 'relevance_score': '0.25'}, {'topic': 'Energy & Transportation', 'relevance_score': '0.25'}, {'topic': 'Technology', 'relevance_score': '0.25'}, {'topic': 'Economy - Monetary', 'relevance_score': '0.158519'}, {'topic': 'Retail & Wholesale', 'relevance_score': '0.25'}, {'topic': 'Financial Markets', 'relevance_score': '0.962106'}, {'topic': 'Earnings', 'relevance_score': '0.158519'}], 'overall_sentiment_score': 0.064951, 'overall_sentiment_label': 'Neutral', 'ticker_sentiment': [{'ticker': 'DRUG', 'relevance_score': '0.107255', 'ticker_sentiment_score': '0.067161', 'ticker_sentiment_label': 'Neutral'}, {'ticker': 'SGFY', 'relevance_score': '0.107255', 'ticker_sentiment_score': '0.292922', 'ticker_sentiment_label': 'Somewhat-Bullish'}, {'ticker': 'CNNWF', 'relevance_score': '0.053749', 'ticker_sentiment_score': '0.122028', 'ticker_sentiment_label': 'Neutral'}, {'ticker': 'AMC', 'relevance_score': '0.107255', 'ticker_sentiment_score': '0.13653', 'ticker_sentiment_label': 'Neutral'}, {'ticker': 'GRFXF', 'relevance_score': '0.160277', 'ticker_sentiment_score': '0.216126', 'ticker_sentiment_label': 'Somewhat-Bullish'}, {'ticker': 'IMBIL', 'relevance_score': '0.053749', 'ticker_sentiment_score': '-0.221844', 'ticker_sentiment_label': 'Somewhat-Bearish'}, {'ticker': 'NGS', 'relevance_score': '0.107255', 'ticker_sentiment_score': '0.122369', 'ticker_sentiment_label': 'Neutral'}, {'ticker': 'SWN', 'relevance_score': '0.107255', 'ticker_sentiment_score': '0.122369', 'ticker_sentiment_label': 'Neutral'}, {'ticker': 'ADES', 'relevance_score': '0.107255', 'ticker_sentiment_score': '-0.155153', 'ticker_sentiment_label': 'Somewhat-Bearish'}]}, {'title': 'Meme stocks fall with AMC, Bed Bath in red', 'url': 'https://www.reuters.com/markets/europe/meme-stocks-fall-with-amc-bed-bath-red-2022-08-22/', 'time_published': '20220822T184100', 'authors': ['Medha Singh', 'Anisha Sircar', 'John Mccrank'], 'summary': 'A shopping cart is seen at a Bed Bath & Beyond store in Manhattan, New York City, U.S., June 29, 2022. REUTERS/Andrew Kelly', 'banner_image': 'https://cloudfront-us-east-2.images.arcpublishing.com/reuters/D4WHIJUADVMBJJQUST66ITO6FU.jpg', 'source': 'Reuters', 'category_within_source': 'Markets', 'source_domain': 'www.reuters.com', 'topics': [{'topic': 'Retail & Wholesale', 'relevance_score': '1.0'}, {'topic': 'Financial Markets', 'relevance_score': '0.999999'}], 'overall_sentiment_score': 0.053312, 'overall_sentiment_label': 'Neutral', 'ticker_sentiment': [{'ticker': 'BBBY', 'relevance_score': '0.250386', 'ticker_sentiment_score': '-0.174914', 'ticker_sentiment_label': 'Somewhat-Bearish'}, {'ticker': 'CNNWF', 'relevance_score': '0.189175', 'ticker_sentiment_score': '-0.024871', 'ticker_sentiment_label': 'Neutral'}, {'ticker': 'GME', 'relevance_score': '0.250386', 'ticker_sentiment_score': '0.028534', 'ticker_sentiment_label': 'Neutral'}, {'ticker': 'AMC', 'relevance_score': '0.768619', 'ticker_sentiment_score': '0.170942', 'ticker_sentiment_label': 'Somewhat-Bullish'}]}]}\n"
     ]
    }
   ],
   "source": [
    "import requests\n",
    "ALPHA_VANTAGE_API_KEY=\"D4Z4RPW8WZE9RUB9\"\n",
    "tickers = [\"BTU,AA,CENX\"]\n",
    "# replace the \"demo\" apikey below with your own key from https://www.alphavantage.co/support/#api-key\n",
    "url = 'https://www.alphavantage.co/query?function=NEWS_SENTIMENT&tickers=AMC&apikey=D4Z4RPW8WZE9RUB9'\n",
    "r = requests.get(url)\n",
    "data = r.json()\n",
    "\n",
    "print(data)"
   ]
  },
  {
   "cell_type": "code",
   "execution_count": null,
   "metadata": {},
   "outputs": [],
   "source": []
  },
  {
   "cell_type": "code",
   "execution_count": 55,
   "metadata": {},
   "outputs": [
    {
     "name": "stdout",
     "output_type": "stream",
     "text": [
      "{'Global Quote': {'01. symbol': 'IBM', '02. open': '126.0000', '03. high': '126.7000', '04. low': '125.2700', '05. price': '125.7300', '06. volume': '6725426', '07. latest trading day': '2023-04-21', '08. previous close': '126.3600', '09. change': '-0.6300', '10. change percent': '-0.4986%'}}\n"
     ]
    }
   ],
   "source": [
    "import requests\n",
    "\n",
    "# replace the \"demo\" apikey below with your own key from https://www.alphavantage.co/support/#api-key\n",
    "url = 'https://www.alphavantage.co/query?function=GLOBAL_QUOTE&symbol=IBM&apikey=demo'\n",
    "r = requests.get(url)\n",
    "data = r.json()\n",
    "\n",
    "print(data)"
   ]
  },
  {
   "cell_type": "code",
   "execution_count": 56,
   "metadata": {},
   "outputs": [],
   "source": [
    "d = data['Global Quote']['05. price']\n"
   ]
  },
  {
   "cell_type": "code",
   "execution_count": 57,
   "metadata": {},
   "outputs": [
    {
     "data": {
      "text/plain": [
       "'125.7300'"
      ]
     },
     "execution_count": 57,
     "metadata": {},
     "output_type": "execute_result"
    }
   ],
   "source": [
    "d"
   ]
  },
  {
   "cell_type": "code",
   "execution_count": 1,
   "metadata": {},
   "outputs": [],
   "source": [
    "import yfinance as yf\n",
    "\n",
    "df = yf.Ticker(\"CEZ.PR\")"
   ]
  },
  {
   "cell_type": "code",
   "execution_count": 5,
   "metadata": {},
   "outputs": [
    {
     "data": {
      "text/html": [
       "<div>\n",
       "<style scoped>\n",
       "    .dataframe tbody tr th:only-of-type {\n",
       "        vertical-align: middle;\n",
       "    }\n",
       "\n",
       "    .dataframe tbody tr th {\n",
       "        vertical-align: top;\n",
       "    }\n",
       "\n",
       "    .dataframe thead th {\n",
       "        text-align: right;\n",
       "    }\n",
       "</style>\n",
       "<table border=\"1\" class=\"dataframe\">\n",
       "  <thead>\n",
       "    <tr style=\"text-align: right;\">\n",
       "      <th></th>\n",
       "      <th>Dividends</th>\n",
       "      <th>Stock Splits</th>\n",
       "    </tr>\n",
       "    <tr>\n",
       "      <th>Date</th>\n",
       "      <th></th>\n",
       "      <th></th>\n",
       "    </tr>\n",
       "  </thead>\n",
       "  <tbody>\n",
       "    <tr>\n",
       "      <th>2001-06-20 00:00:00+02:00</th>\n",
       "      <td>2.00</td>\n",
       "      <td>0.0</td>\n",
       "    </tr>\n",
       "    <tr>\n",
       "      <th>2002-06-28 00:00:00+02:00</th>\n",
       "      <td>2.50</td>\n",
       "      <td>0.0</td>\n",
       "    </tr>\n",
       "    <tr>\n",
       "      <th>2003-06-18 00:00:00+02:00</th>\n",
       "      <td>4.50</td>\n",
       "      <td>0.0</td>\n",
       "    </tr>\n",
       "    <tr>\n",
       "      <th>2004-06-18 00:00:00+02:00</th>\n",
       "      <td>8.00</td>\n",
       "      <td>0.0</td>\n",
       "    </tr>\n",
       "    <tr>\n",
       "      <th>2005-06-21 00:00:00+02:00</th>\n",
       "      <td>9.00</td>\n",
       "      <td>0.0</td>\n",
       "    </tr>\n",
       "    <tr>\n",
       "      <th>2006-05-24 00:00:00+02:00</th>\n",
       "      <td>15.00</td>\n",
       "      <td>0.0</td>\n",
       "    </tr>\n",
       "    <tr>\n",
       "      <th>2007-04-24 00:00:00+02:00</th>\n",
       "      <td>20.00</td>\n",
       "      <td>0.0</td>\n",
       "    </tr>\n",
       "    <tr>\n",
       "      <th>2008-05-22 00:00:00+02:00</th>\n",
       "      <td>40.00</td>\n",
       "      <td>0.0</td>\n",
       "    </tr>\n",
       "    <tr>\n",
       "      <th>2009-05-11 00:00:00+02:00</th>\n",
       "      <td>50.00</td>\n",
       "      <td>0.0</td>\n",
       "    </tr>\n",
       "    <tr>\n",
       "      <th>2010-06-23 00:00:00+02:00</th>\n",
       "      <td>45.05</td>\n",
       "      <td>0.0</td>\n",
       "    </tr>\n",
       "    <tr>\n",
       "      <th>2010-06-25 00:00:00+02:00</th>\n",
       "      <td>53.00</td>\n",
       "      <td>0.0</td>\n",
       "    </tr>\n",
       "    <tr>\n",
       "      <th>2011-06-03 00:00:00+02:00</th>\n",
       "      <td>50.00</td>\n",
       "      <td>0.0</td>\n",
       "    </tr>\n",
       "    <tr>\n",
       "      <th>2012-06-28 00:00:00+02:00</th>\n",
       "      <td>45.00</td>\n",
       "      <td>0.0</td>\n",
       "    </tr>\n",
       "    <tr>\n",
       "      <th>2013-06-21 00:00:00+02:00</th>\n",
       "      <td>40.00</td>\n",
       "      <td>0.0</td>\n",
       "    </tr>\n",
       "    <tr>\n",
       "      <th>2014-07-01 00:00:00+02:00</th>\n",
       "      <td>40.00</td>\n",
       "      <td>0.0</td>\n",
       "    </tr>\n",
       "    <tr>\n",
       "      <th>2015-06-17 00:00:00+02:00</th>\n",
       "      <td>40.00</td>\n",
       "      <td>0.0</td>\n",
       "    </tr>\n",
       "    <tr>\n",
       "      <th>2016-06-07 00:00:00+02:00</th>\n",
       "      <td>40.00</td>\n",
       "      <td>0.0</td>\n",
       "    </tr>\n",
       "    <tr>\n",
       "      <th>2016-06-08 00:00:00+02:00</th>\n",
       "      <td>40.00</td>\n",
       "      <td>0.0</td>\n",
       "    </tr>\n",
       "    <tr>\n",
       "      <th>2017-06-26 00:00:00+02:00</th>\n",
       "      <td>33.00</td>\n",
       "      <td>0.0</td>\n",
       "    </tr>\n",
       "    <tr>\n",
       "      <th>2018-06-27 00:00:00+02:00</th>\n",
       "      <td>33.00</td>\n",
       "      <td>0.0</td>\n",
       "    </tr>\n",
       "    <tr>\n",
       "      <th>2019-07-01 00:00:00+02:00</th>\n",
       "      <td>24.00</td>\n",
       "      <td>0.0</td>\n",
       "    </tr>\n",
       "    <tr>\n",
       "      <th>2020-07-01 00:00:00+02:00</th>\n",
       "      <td>34.00</td>\n",
       "      <td>0.0</td>\n",
       "    </tr>\n",
       "    <tr>\n",
       "      <th>2021-07-01 00:00:00+02:00</th>\n",
       "      <td>52.00</td>\n",
       "      <td>0.0</td>\n",
       "    </tr>\n",
       "    <tr>\n",
       "      <th>2022-07-01 00:00:00+02:00</th>\n",
       "      <td>48.00</td>\n",
       "      <td>0.0</td>\n",
       "    </tr>\n",
       "    <tr>\n",
       "      <th>2023-06-29 00:00:00+02:00</th>\n",
       "      <td>145.00</td>\n",
       "      <td>0.0</td>\n",
       "    </tr>\n",
       "  </tbody>\n",
       "</table>\n",
       "</div>"
      ],
      "text/plain": [
       "                           Dividends  Stock Splits\n",
       "Date                                              \n",
       "2001-06-20 00:00:00+02:00       2.00           0.0\n",
       "2002-06-28 00:00:00+02:00       2.50           0.0\n",
       "2003-06-18 00:00:00+02:00       4.50           0.0\n",
       "2004-06-18 00:00:00+02:00       8.00           0.0\n",
       "2005-06-21 00:00:00+02:00       9.00           0.0\n",
       "2006-05-24 00:00:00+02:00      15.00           0.0\n",
       "2007-04-24 00:00:00+02:00      20.00           0.0\n",
       "2008-05-22 00:00:00+02:00      40.00           0.0\n",
       "2009-05-11 00:00:00+02:00      50.00           0.0\n",
       "2010-06-23 00:00:00+02:00      45.05           0.0\n",
       "2010-06-25 00:00:00+02:00      53.00           0.0\n",
       "2011-06-03 00:00:00+02:00      50.00           0.0\n",
       "2012-06-28 00:00:00+02:00      45.00           0.0\n",
       "2013-06-21 00:00:00+02:00      40.00           0.0\n",
       "2014-07-01 00:00:00+02:00      40.00           0.0\n",
       "2015-06-17 00:00:00+02:00      40.00           0.0\n",
       "2016-06-07 00:00:00+02:00      40.00           0.0\n",
       "2016-06-08 00:00:00+02:00      40.00           0.0\n",
       "2017-06-26 00:00:00+02:00      33.00           0.0\n",
       "2018-06-27 00:00:00+02:00      33.00           0.0\n",
       "2019-07-01 00:00:00+02:00      24.00           0.0\n",
       "2020-07-01 00:00:00+02:00      34.00           0.0\n",
       "2021-07-01 00:00:00+02:00      52.00           0.0\n",
       "2022-07-01 00:00:00+02:00      48.00           0.0\n",
       "2023-06-29 00:00:00+02:00     145.00           0.0"
      ]
     },
     "execution_count": 5,
     "metadata": {},
     "output_type": "execute_result"
    }
   ],
   "source": [
    "df.actions"
   ]
  },
  {
   "cell_type": "code",
   "execution_count": 7,
   "metadata": {},
   "outputs": [
    {
     "name": "stdout",
     "output_type": "stream",
     "text": [
      "[*********************100%***********************]  2 of 2 completed\n"
     ]
    }
   ],
   "source": [
    "stock_list = \"AMC BTU\"\n",
    "        # Stažení dat z Yahoo Finance\n",
    "data = yf.download(stock_list, period=\"1d\")[\"Adj Close\"]"
   ]
  },
  {
   "cell_type": "code",
   "execution_count": 37,
   "metadata": {},
   "outputs": [
    {
     "name": "stdout",
     "output_type": "stream",
     "text": [
      "[*********************100%***********************]  1 of 1 completed\n"
     ]
    }
   ],
   "source": [
    "data = yf.download(\"PBR\", period=\"1d\")"
   ]
  },
  {
   "cell_type": "code",
   "execution_count": 68,
   "metadata": {},
   "outputs": [
    {
     "data": {
      "text/plain": [
       "13.680000305175781"
      ]
     },
     "execution_count": 68,
     "metadata": {},
     "output_type": "execute_result"
    }
   ],
   "source": [
    "data[\"Adj Close\"].iloc[0]"
   ]
  },
  {
   "cell_type": "code",
   "execution_count": 32,
   "metadata": {},
   "outputs": [
    {
     "data": {
      "text/plain": [
       "dict_values([4.531799793243408])"
      ]
     },
     "execution_count": 32,
     "metadata": {},
     "output_type": "execute_result"
    }
   ],
   "source": [
    "di[\"AMC\"].keys()\n",
    "di[\"AMC\"].values()\n",
    "\n"
   ]
  },
  {
   "cell_type": "code",
   "execution_count": 36,
   "metadata": {},
   "outputs": [
    {
     "name": "stdout",
     "output_type": "stream",
     "text": [
      "2023-07-27 00:00:00 4.531799793243408\n"
     ]
    }
   ],
   "source": [
    "for key, value in di[\"AMC\"].items():\n",
    "    print(key, value)"
   ]
  },
  {
   "cell_type": "code",
   "execution_count": 46,
   "metadata": {},
   "outputs": [],
   "source": [
    "from django.conf import settings\n",
    "import requests\n",
    "\n",
    "\n",
    "\n",
    "IEX_TOKEN_PROD=\"pk_1a377aa6e6084f44a5dab630c1faec47\"\n",
    "IEX_TOKEN_TEST=\"Tpk_eee555b376514b31a382376fe44bac4a\"\n",
    "PROD_URL = \"https://cloud.iexapis.com/v1\"\n",
    "TEST_URL = \"https://sandbox.iexapis.com/stable\"\n",
    "\n",
    "class IEXAPI():\n",
    "    def __init__(self):\n",
    "        self.token = IEX_TOKEN_TEST\n",
    "        self.prefix = TEST_URL\n",
    "        self.session = requests.Session()\n",
    "        \n",
    "    def get_company_quote(self,symbol):\n",
    "        \"\"\"\n",
    "        Get realtime or delayed qoute for defined symbol\n",
    "        Returns: JSON\n",
    "        \"\"\"\n",
    "        end_point = f\"/stock/{symbol}/quote\"\n",
    "        url = self.prefix + end_point+\"?token=\"+self.token\n",
    "        response = self.session.get(url)\n",
    "        data = response.json()\n",
    "        return data\n",
    "    \n",
    "    def get_quote_field(self,symbol,field):\n",
    "        \"\"\"\n",
    "        Get only Last price defined symbol\n",
    "        Returns: JSON\n",
    "        \"\"\"\n",
    "        end_point = f\"/stock/{symbol}/quote/{field}\"\n",
    "        url = self.prefix + end_point+\"?token=\"+self.token\n",
    "        response = self.session.get(url)\n",
    "        data = response.json()\n",
    "        return data\n",
    "    \n",
    "    def get_previous_day(self,symbol):\n",
    "        \"\"\"\n",
    "        Get insider transactions for defined symbol\n",
    "        Returns: JSON\n",
    "        \"\"\"\n",
    "        end_point = f\"/stock/{symbol}/previous\"\n",
    "        url = self.prefix + end_point+\"?token=\"+self.token\n",
    "        response = self.session.get(url)\n",
    "        data = response.json()\n",
    "        return data\n",
    "    \n",
    "    def get_company_profile(self,symbol):\n",
    "        \"\"\"\n",
    "        Get realtime or delayed qoute for defined symbol\n",
    "        Returns: JSON\n",
    "        \"\"\"\n",
    "        end_point = f\"/stock/{symbol}/company\"\n",
    "        url = self.prefix + end_point+\"?token=\"+self.token\n",
    "        response = self.session.get(url)\n",
    "        data = response.json()\n",
    "        return data\n",
    "    \n",
    "    def get_list(self, list):\n",
    "        \"\"\"\n",
    "        Get realtime or delayed most active symbols\n",
    "        list option = (mostactive, gainers,\n",
    "        losers,iexvolume,iexpercent,premarket_losers,\n",
    "        postmarket_loseres, premaeket_gainers,postmarket_gainers)\n",
    "        Returns: JSON\n",
    "        \"\"\"\n",
    "        end_point = f\"/stock/market/list/{list}\"\n",
    "        url = self.prefix + end_point+\"?token=\"+self.token\n",
    "        response = self.session.get(url)\n",
    "        data = response.json()\n",
    "        return data\n",
    "    \n",
    "    \n",
    "    def get_basic_stats(self,symbol):\n",
    "        \"\"\"\n",
    "        Get basic stats for defined symbol\n",
    "        Returns: JSON\n",
    "        \"\"\"\n",
    "        end_point = f\"/stock/{symbol}/stats\"\n",
    "        url = self.prefix + end_point+\"?token=\"+self.token\n",
    "        response = self.session.get(url)\n",
    "        data = response.json()\n",
    "        return data\n",
    "    \n",
    "    def get_advanced_stats(self,symbol):\n",
    "        \"\"\"\n",
    "        Get advanced stats for defined symbol\n",
    "        Returns: JSON\n",
    "        \"\"\"\n",
    "        end_point = f\"/stock/{symbol}/advanced-stats\"\n",
    "        url = self.prefix + end_point+\"?token=\"+self.token\n",
    "        response = self.session.get(url)\n",
    "        data = response.json()\n",
    "        return data\n",
    "    \n",
    "    def get_insider_trans(self,symbol):\n",
    "        \"\"\"\n",
    "        Get insider transactions for defined symbol\n",
    "        Returns: JSON\n",
    "        \"\"\"\n",
    "        end_point = f\"/stock/{symbol}/insider-transactions\"\n",
    "        url = self.prefix + end_point+\"?token=\"+self.token\n",
    "        response = self.session.get(url)\n",
    "        data = response.json()\n",
    "        return data\n",
    "    \n",
    "    def get_dividends(self,symbol):\n",
    "        \"\"\"\n",
    "        Get insider transactions for defined symbol\n",
    "        Returns: JSON\n",
    "        \"\"\"\n",
    "        end_point = f\"/stock/{symbol}/dividends/5y\"\n",
    "        url = self.prefix + end_point+\"?token=\"+self.token\n",
    "        response = self.session.get(url)\n",
    "        data = response.json()\n",
    "        return data\n",
    "    \n",
    "    def get_last_only(self,symbol):\n",
    "        \"\"\"\n",
    "        Get only Last price defined symbol\n",
    "        Returns: JSON\n",
    "        \"\"\"\n",
    "        end_point = f\"/stock/{symbol}/price\"\n",
    "        url = self.prefix + end_point+\"?token=\"+self.token\n",
    "        response = self.session.get(url)\n",
    "        data = response.json()\n",
    "        return data\n",
    "    \n",
    "    def get_sector_performance(self):\n",
    "        \"\"\"\n",
    "        Get only Last price defined symbol\n",
    "        Returns: JSON\n",
    "        \"\"\"\n",
    "        end_point = f\"/stock/market/sector-performance\"\n",
    "        url = self.prefix + end_point+\"?token=\"+self.token\n",
    "        response = self.session.get(url)\n",
    "        data = response.json()\n",
    "        return data\n",
    "    \n",
    "    \n",
    "    def get_company_logo(self,symbol):\n",
    "        \"\"\"\n",
    "        Get url of company symbol\n",
    "        Returns: JSON\n",
    "        \"\"\"\n",
    "        end_point = f\"/stock/{symbol}/logo\"\n",
    "        url = self.prefix + end_point+\"?token=\"+self.token\n",
    "        response = self.session.get(url)\n",
    "        data = response.json()\n",
    "        return data\n",
    "    \n",
    "    def get_company_last_news(self,symbol):\n",
    "        \"\"\"\n",
    "        Get url of company symbol\n",
    "        Returns: JSON\n",
    "        \"\"\"\n",
    "        end_point = f\"/data/core/news/{symbol}\"\n",
    "        url = self.prefix + end_point+\"?limit=5&token=\"+self.token\n",
    "        response = self.session.get(url)\n",
    "        data = response.json()\n",
    "        return data\n",
    "    \n",
    "    \n"
   ]
  },
  {
   "cell_type": "code",
   "execution_count": 47,
   "metadata": {},
   "outputs": [],
   "source": [
    "api = IEXAPI()"
   ]
  },
  {
   "cell_type": "code",
   "execution_count": 52,
   "metadata": {},
   "outputs": [],
   "source": [
    "tickers = yf.Tickers('msft aapl goog')"
   ]
  },
  {
   "cell_type": "code",
   "execution_count": null,
   "metadata": {},
   "outputs": [],
   "source": []
  },
  {
   "cell_type": "code",
   "execution_count": 69,
   "metadata": {},
   "outputs": [],
   "source": [
    "msft = yf.Ticker(\"MSFT\")"
   ]
  },
  {
   "cell_type": "code",
   "execution_count": 74,
   "metadata": {},
   "outputs": [
    {
     "data": {
      "text/plain": [
       "[{'uuid': 'fb8891b4-1f5a-3cfe-badc-6c627fc18e6f',\n",
       "  'title': 'Dow Jones Sees Win Streak Under Threat, Microsoft Stock Near New Buy Point; New IPO Cava Up 137% Since IPO',\n",
       "  'publisher': \"Investor's Business Daily\",\n",
       "  'link': 'https://finance.yahoo.com/m/fb8891b4-1f5a-3cfe-badc-6c627fc18e6f/dow-jones-sees-win-streak.html',\n",
       "  'providerPublishTime': 1690486811,\n",
       "  'type': 'STORY',\n",
       "  'thumbnail': {'resolutions': [{'url': 'https://s.yimg.com/uu/api/res/1.2/bAzf3Q9TadJEiljuIc6E9A--~B/aD01NjM7dz0xMDAwO2FwcGlkPXl0YWNoeW9u/https://media.zenfs.com/en/ibd.com/58d912a83f68941c59114da1e6f3d6bd',\n",
       "     'width': 1000,\n",
       "     'height': 563,\n",
       "     'tag': 'original'},\n",
       "    {'url': 'https://s.yimg.com/uu/api/res/1.2/1P3aq.I_3JcvmosL0sM3AQ--~B/Zmk9ZmlsbDtoPTE0MDtweW9mZj0wO3c9MTQwO2FwcGlkPXl0YWNoeW9u/https://media.zenfs.com/en/ibd.com/58d912a83f68941c59114da1e6f3d6bd',\n",
       "     'width': 140,\n",
       "     'height': 140,\n",
       "     'tag': '140x140'}]},\n",
       "  'relatedTickers': ['^DJI', 'MSFT', '^GSPC', 'COMP', '^RUT']}]"
      ]
     },
     "execution_count": 74,
     "metadata": {},
     "output_type": "execute_result"
    }
   ],
   "source": [
    "msft.news[0:1]\n"
   ]
  },
  {
   "cell_type": "code",
   "execution_count": 75,
   "metadata": {},
   "outputs": [],
   "source": [
    "# BCPP Scrapping\n",
    "\n"
   ]
  },
  {
   "cell_type": "code",
   "execution_count": 76,
   "metadata": {},
   "outputs": [],
   "source": [
    "from bs4 import BeautifulSoup"
   ]
  },
  {
   "cell_type": "code",
   "execution_count": 121,
   "metadata": {},
   "outputs": [],
   "source": [
    "url = \"https://www.pse.cz/detail/CZ0009008942\"\n",
    "r = requests.get(url)\n",
    "soup = BeautifulSoup(r.content,'html.parser')\n"
   ]
  },
  {
   "cell_type": "code",
   "execution_count": 145,
   "metadata": {},
   "outputs": [],
   "source": [
    "table = soup.findAll(\"div\", attrs= {\"class\":\"detail-chart-info-item-content-value\"})\n",
    "\n",
    "quote = {} \n",
    "date = table[0].get_text().split(\"|\")\n",
    "quote[\"isin\"] = table[4].get_text()\n",
    "quote[\"date\"] = date[0]\n",
    "quote[\"time\"] = date[1]\n",
    "quote[\"price\"] = table[1].get_text().strip()\n",
    "quote[\"change\"] = table[2].get_text().strip()\n",
    "\n",
    "    "
   ]
  },
  {
   "cell_type": "code",
   "execution_count": 146,
   "metadata": {},
   "outputs": [
    {
     "data": {
      "text/plain": [
       "<div class=\"detail-chart-info-item-content-value js-intraday-change positive\" intraday-change=\"0.53475935828877\">\n",
       "<span data-tooltip=\"Změna aktuální ceny oproti předchozí závěrečné ceně.\" tooltip=\"\">\n",
       "\t\t\t\t\t\t\t\t\t0,53 %\n",
       "\t\t\t\t\t\t\t\t<span class=\"info-icon\" style=\"background-repeat: no-repeat; background-position: 0 0; vertical-align: text-bottom; width: 20px; height: 20px;  display: inline-block;\"></span>\n",
       "</span>\n",
       "</div>"
      ]
     },
     "execution_count": 146,
     "metadata": {},
     "output_type": "execute_result"
    }
   ],
   "source": [
    "table[2]"
   ]
  },
  {
   "cell_type": "code",
   "execution_count": 147,
   "metadata": {},
   "outputs": [
    {
     "data": {
      "text/plain": [
       "{'isin': 'CZ0009008942',\n",
       " 'date': '27.07.2023 ',\n",
       " 'time': ' 16:15:07',\n",
       " 'price': '564,00 Kč',\n",
       " 'change': '0,53 %'}"
      ]
     },
     "execution_count": 147,
     "metadata": {},
     "output_type": "execute_result"
    }
   ],
   "source": [
    "quote"
   ]
  },
  {
   "cell_type": "code",
   "execution_count": 96,
   "metadata": {},
   "outputs": [
    {
     "data": {
      "text/plain": [
       "{'quote': None}"
      ]
     },
     "execution_count": 96,
     "metadata": {},
     "output_type": "execute_result"
    }
   ],
   "source": [
    "price"
   ]
  },
  {
   "cell_type": "code",
   "execution_count": 93,
   "metadata": {},
   "outputs": [
    {
     "data": {
      "text/plain": [
       "[<div class=\"detail-chart-info-item-content-value\">27.07.2023 | 16:15:07</div>,\n",
       " <div class=\"detail-chart-info-item-content-value\">\n",
       " <td>564,00 Kč</td>\n",
       " </div>,\n",
       " <div class=\"detail-chart-info-item-content-value js-intraday-change positive\" intraday-change=\"0.53475935828877\">\n",
       " <span data-tooltip=\"Změna aktuální ceny oproti předchozí závěrečné ceně.\" tooltip=\"\">\n",
       " \t\t\t\t\t\t\t\t\t0,53 %\n",
       " \t\t\t\t\t\t\t\t<span class=\"info-icon\" style=\"background-repeat: no-repeat; background-position: 0 0; vertical-align: text-bottom; width: 20px; height: 20px;  display: inline-block;\"></span>\n",
       " </span>\n",
       " </div>,\n",
       " <div class=\"detail-chart-info-item-content-value positive\">\n",
       " \t\t\t\t\t\t\t\t3,00 Kč\n",
       " \t\t\t\t\t\t</div>,\n",
       " <div class=\"detail-chart-info-item-content-value js-detail-isin\">CZ0009008942</div>,\n",
       " <div class=\"detail-chart-info-item-content-value\">Poobchodní fáze</div>]"
      ]
     },
     "execution_count": 93,
     "metadata": {},
     "output_type": "execute_result"
    }
   ],
   "source": [
    "table"
   ]
  },
  {
   "cell_type": "code",
   "execution_count": null,
   "metadata": {},
   "outputs": [],
   "source": []
  },
  {
   "cell_type": "code",
   "execution_count": null,
   "metadata": {},
   "outputs": [],
   "source": [
    "prime_market = \"https://www.pse.cz/udaje-o-trhu/akcie/prime-market\"\n",
    "url_1 = \"https://www.pse.cz/detail/CZ0005138529\"\n",
    "url_2 = \"https://www.pse.cz/detail/CZ0009008942\"\n"
   ]
  }
 ],
 "metadata": {
  "kernelspec": {
   "display_name": ".djangoTradingBlog",
   "language": "python",
   "name": "python3"
  },
  "language_info": {
   "codemirror_mode": {
    "name": "ipython",
    "version": 3
   },
   "file_extension": ".py",
   "mimetype": "text/x-python",
   "name": "python",
   "nbconvert_exporter": "python",
   "pygments_lexer": "ipython3",
   "version": "3.11.3"
  },
  "orig_nbformat": 4
 },
 "nbformat": 4,
 "nbformat_minor": 2
}
