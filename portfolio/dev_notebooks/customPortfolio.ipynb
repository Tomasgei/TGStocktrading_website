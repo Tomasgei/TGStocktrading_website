{
 "cells": [
  {
   "cell_type": "code",
   "execution_count": 36,
   "metadata": {},
   "outputs": [],
   "source": [
    "import pandas as pd\n",
    "import numpy as np\n",
    "import yfinance as yf\n",
    "import datetime as dt"
   ]
  },
  {
   "cell_type": "code",
   "execution_count": 74,
   "metadata": {},
   "outputs": [],
   "source": [
    "trans = [{\"Date\":\"2021/01/01\",\"Symbol\":\"BTU\",\"Type\":\"BUY\",\"entry_price\":45.50,\"units\":20},\n",
    "         {\"Date\":\"2021/02/01\",\"Symbol\":\"BTU\",\"Type\":\"BUY\",\"entry_price\":50.25,\"units\":80},\n",
    "         {\"Date\":\"2021/02/02\",\"Symbol\":\"BTU\",\"Type\":\"SELL\",\"entry_price\":32.25,\"units\":15},\n",
    "         {\"Date\":\"2022/02/01\",\"Symbol\":\"AMC\",\"Type\":\"BUY\",\"entry_price\":10.13,\"units\":50},\n",
    "         {\"Date\":\"2022/05/01\",\"Symbol\":\"BTU\",\"Type\":\"BUY\",\"entry_price\":8.10,\"units\":45},\n",
    "         {\"Date\":\"2021/03/01\",\"Symbol\":\"BTU\",\"Type\":\"BUY\",\"entry_price\":8.00,\"units\":150},\n",
    "         {\"Date\":\"2021/02/01\",\"Symbol\":\"F\",\"Type\":\"BUY\",\"entry_price\":14.13,\"units\":50},\n",
    "         {\"Date\":\"2021/02/01\",\"Symbol\":\"F\",\"Type\":\"BUY\",\"entry_price\":10.1,\"units\":30},\n",
    "         {\"Date\":\"2021/02/01\",\"Symbol\":\"F\",\"Type\":\"BUY\",\"entry_price\":3.55,\"units\":150},\n",
    "         {\"Date\":\"2023/02/01\",\"Symbol\":\"ADBE\",\"Type\":\"BUY\",\"entry_price\":10.55,\"units\":150},\n",
    "         {\"Date\":\"2023/05/01\",\"Symbol\":\"ADBE\",\"Type\":\"SELL\",\"entry_price\":11.55,\"units\":150},\n",
    "         {\"Date\":\"2021/02/01\",\"Symbol\":\"F\",\"Type\":\"SELL\",\"entry_price\":15.55,\"units\":50}]\n"
   ]
  },
  {
   "cell_type": "code",
   "execution_count": 75,
   "metadata": {},
   "outputs": [],
   "source": [
    "\n",
    "stock_list = ['BAC', 'C', 'HIG', 'LEN', 'MS'] #Input\n",
    "start_date = '2019-01-01' #Input\n",
    "end_date = '2021-12-31'#Input"
   ]
  },
  {
   "cell_type": "code",
   "execution_count": 198,
   "metadata": {},
   "outputs": [],
   "source": [
    "class PortfolioStats:\n",
    "    def __init__(self, name, init_balance, currency, list_of_transactions, start_date, end_date) -> None:\n",
    "        self.name = name \n",
    "        self.init_balance = init_balance\n",
    "        self.currency = currency\n",
    "        self.transactions = list_of_transactions\n",
    "        self.start_date = start_date\n",
    "        self.end_date = end_date\n",
    "        \n",
    "    def get_trans_as_df(self):\n",
    "        trans = pd.DataFrame.from_dict(self.transactions)\n",
    "        trans[\"Date\"] = pd.to_datetime(trans[\"Date\"])\n",
    "        trans[\"units\"] = np.where( trans[\"Type\"]==\"SELL\",-trans[\"units\"],trans[\"units\"]  )\n",
    "        #trans[\"cost_basis\"] = trans[\"units\"] * trans[\"entry_price\"]\n",
    "        trans.set_index(\"Date\")\n",
    "        return trans\n",
    "    \n",
    "    def get_ptf_positions(self):\n",
    "        transactions = self.get_trans_as_df()\n",
    "        trans_data = transactions[[\"Symbol\",\"units\"]]\n",
    "        tdf = trans_data.groupby(\"Symbol\").sum()\n",
    "        non_zero_pos = tdf[\"units\"] > 0\n",
    "        tdf = tdf[non_zero_pos]\n",
    "        ptf_pos =  tdf.to_dict()\n",
    "        return ptf_pos\n",
    "    \n",
    "    def get_open_positions(self):\n",
    "        transactions = self.get_trans_as_df()\n",
    "        trans_data = transactions[[\"Symbol\",\"units\"]]\n",
    "        tdf = trans_data.groupby(\"Symbol\").sum()\n",
    "        non_zero_pos = tdf[\"units\"] > 0\n",
    "        tdf = tdf[non_zero_pos]\n",
    "        open_pos =  tdf.to_dict()\n",
    "        \n",
    "        open_positions = []\n",
    "        for position in open_pos[\"units\"]:\n",
    "            \n",
    "            buy_transactions = {}\n",
    "            for transaction in trans:\n",
    "                if transaction[\"Type\"] == \"BUY\" and transaction[\"Symbol\"] == position:\n",
    "                    symbol = transaction[\"Symbol\"]\n",
    "                    price = transaction[\"entry_price\"]\n",
    "                    units = transaction[\"units\"]\n",
    "                    if symbol in buy_transactions:\n",
    "                        buy_transactions[symbol][\"total_cost\"] += price * units\n",
    "                        buy_transactions[symbol][\"total_units\"] += units\n",
    "                    else:\n",
    "                        buy_transactions[symbol] = {\"total_cost\": price * units, \"total_units\": units}\n",
    "            \n",
    "            \n",
    "            for symbol, data in buy_transactions.items():\n",
    "                portfolio_pos = {}\n",
    "                avg_price = data[\"total_cost\"] / data[\"total_units\"]\n",
    "                data[\"avg_price\"] = avg_price\n",
    "                portfolio_pos[symbol] = data\n",
    "                open_positions.append(portfolio_pos)\n",
    "                print(f\"Symbol: {symbol}, Average Buy Price: {avg_price:.2f}\")\n",
    "        return open_positions\n",
    "    \n",
    "    def get_open_position_prices(self):\n",
    "        stock_list = list(self.get_ptf_positions()[\"units\"].keys())\n",
    "        # Stažení dat z Yahoo Finance\n",
    "        data = yf.download(stock_list , period=\"1d\")[\"Adj Close\"]\n",
    "        return data\n",
    "        \n",
    "        \n"
   ]
  },
  {
   "cell_type": "code",
   "execution_count": 199,
   "metadata": {},
   "outputs": [],
   "source": [
    "def get_data(stock, start, end):\n",
    "    try:\n",
    "        stock_data = yf.download(stock_list, start=start_date, end=end_date)[\"Adj Close\"]\n",
    "        print(stock_data.head())\n",
    "        return stock_data\n",
    "    except Exception as e:\n",
    "        print(f'No data found for {stock}.{e}')"
   ]
  },
  {
   "cell_type": "code",
   "execution_count": 200,
   "metadata": {},
   "outputs": [
    {
     "name": "stdout",
     "output_type": "stream",
     "text": [
      "[*********************100%***********************]  5 of 5 completed\n",
      "                  BAC          C        HIG        LEN         MS\n",
      "Date                                                             \n",
      "2019-01-02  22.641018  45.715565  39.206615  38.050537  35.365761\n",
      "2019-01-03  22.278183  44.887173  38.664833  37.660137  34.735489\n",
      "2019-01-04  23.203415  47.081993  39.856750  39.240810  36.153610\n",
      "2019-01-07  23.185276  47.491924  39.712273  40.354900  36.512524\n",
      "2019-01-08  23.139921  47.363819  39.179531  40.840530  36.284931\n"
     ]
    },
    {
     "data": {
      "text/html": [
       "<div>\n",
       "<style scoped>\n",
       "    .dataframe tbody tr th:only-of-type {\n",
       "        vertical-align: middle;\n",
       "    }\n",
       "\n",
       "    .dataframe tbody tr th {\n",
       "        vertical-align: top;\n",
       "    }\n",
       "\n",
       "    .dataframe thead th {\n",
       "        text-align: right;\n",
       "    }\n",
       "</style>\n",
       "<table border=\"1\" class=\"dataframe\">\n",
       "  <thead>\n",
       "    <tr style=\"text-align: right;\">\n",
       "      <th></th>\n",
       "      <th>BAC</th>\n",
       "      <th>C</th>\n",
       "      <th>HIG</th>\n",
       "      <th>LEN</th>\n",
       "      <th>MS</th>\n",
       "    </tr>\n",
       "    <tr>\n",
       "      <th>Date</th>\n",
       "      <th></th>\n",
       "      <th></th>\n",
       "      <th></th>\n",
       "      <th></th>\n",
       "      <th></th>\n",
       "    </tr>\n",
       "  </thead>\n",
       "  <tbody>\n",
       "    <tr>\n",
       "      <th>2019-01-02</th>\n",
       "      <td>22.641018</td>\n",
       "      <td>45.715565</td>\n",
       "      <td>39.206615</td>\n",
       "      <td>38.050537</td>\n",
       "      <td>35.365761</td>\n",
       "    </tr>\n",
       "    <tr>\n",
       "      <th>2019-01-03</th>\n",
       "      <td>22.278183</td>\n",
       "      <td>44.887173</td>\n",
       "      <td>38.664833</td>\n",
       "      <td>37.660137</td>\n",
       "      <td>34.735489</td>\n",
       "    </tr>\n",
       "    <tr>\n",
       "      <th>2019-01-04</th>\n",
       "      <td>23.203415</td>\n",
       "      <td>47.081993</td>\n",
       "      <td>39.856750</td>\n",
       "      <td>39.240810</td>\n",
       "      <td>36.153610</td>\n",
       "    </tr>\n",
       "    <tr>\n",
       "      <th>2019-01-07</th>\n",
       "      <td>23.185276</td>\n",
       "      <td>47.491924</td>\n",
       "      <td>39.712273</td>\n",
       "      <td>40.354900</td>\n",
       "      <td>36.512524</td>\n",
       "    </tr>\n",
       "    <tr>\n",
       "      <th>2019-01-08</th>\n",
       "      <td>23.139921</td>\n",
       "      <td>47.363819</td>\n",
       "      <td>39.179531</td>\n",
       "      <td>40.840530</td>\n",
       "      <td>36.284931</td>\n",
       "    </tr>\n",
       "    <tr>\n",
       "      <th>...</th>\n",
       "      <td>...</td>\n",
       "      <td>...</td>\n",
       "      <td>...</td>\n",
       "      <td>...</td>\n",
       "      <td>...</td>\n",
       "    </tr>\n",
       "    <tr>\n",
       "      <th>2021-12-23</th>\n",
       "      <td>43.129517</td>\n",
       "      <td>56.696262</td>\n",
       "      <td>66.396019</td>\n",
       "      <td>109.225639</td>\n",
       "      <td>94.377960</td>\n",
       "    </tr>\n",
       "    <tr>\n",
       "      <th>2021-12-27</th>\n",
       "      <td>43.343128</td>\n",
       "      <td>57.110584</td>\n",
       "      <td>66.950363</td>\n",
       "      <td>110.609848</td>\n",
       "      <td>95.385025</td>\n",
       "    </tr>\n",
       "    <tr>\n",
       "      <th>2021-12-28</th>\n",
       "      <td>43.401390</td>\n",
       "      <td>57.082336</td>\n",
       "      <td>67.242149</td>\n",
       "      <td>111.613892</td>\n",
       "      <td>94.976494</td>\n",
       "    </tr>\n",
       "    <tr>\n",
       "      <th>2021-12-29</th>\n",
       "      <td>43.333424</td>\n",
       "      <td>57.007004</td>\n",
       "      <td>67.660339</td>\n",
       "      <td>113.173553</td>\n",
       "      <td>93.798431</td>\n",
       "    </tr>\n",
       "    <tr>\n",
       "      <th>2021-12-30</th>\n",
       "      <td>43.236328</td>\n",
       "      <td>56.903423</td>\n",
       "      <td>67.222687</td>\n",
       "      <td>112.344978</td>\n",
       "      <td>93.864929</td>\n",
       "    </tr>\n",
       "  </tbody>\n",
       "</table>\n",
       "<p>756 rows × 5 columns</p>\n",
       "</div>"
      ],
      "text/plain": [
       "                  BAC          C        HIG         LEN         MS\n",
       "Date                                                              \n",
       "2019-01-02  22.641018  45.715565  39.206615   38.050537  35.365761\n",
       "2019-01-03  22.278183  44.887173  38.664833   37.660137  34.735489\n",
       "2019-01-04  23.203415  47.081993  39.856750   39.240810  36.153610\n",
       "2019-01-07  23.185276  47.491924  39.712273   40.354900  36.512524\n",
       "2019-01-08  23.139921  47.363819  39.179531   40.840530  36.284931\n",
       "...               ...        ...        ...         ...        ...\n",
       "2021-12-23  43.129517  56.696262  66.396019  109.225639  94.377960\n",
       "2021-12-27  43.343128  57.110584  66.950363  110.609848  95.385025\n",
       "2021-12-28  43.401390  57.082336  67.242149  111.613892  94.976494\n",
       "2021-12-29  43.333424  57.007004  67.660339  113.173553  93.798431\n",
       "2021-12-30  43.236328  56.903423  67.222687  112.344978  93.864929\n",
       "\n",
       "[756 rows x 5 columns]"
      ]
     },
     "execution_count": 200,
     "metadata": {},
     "output_type": "execute_result"
    }
   ],
   "source": [
    "get_data(\"AMC\",start_date,end_date)"
   ]
  },
  {
   "cell_type": "code",
   "execution_count": 201,
   "metadata": {},
   "outputs": [],
   "source": [
    "p1 = PortfolioStats(\"MyTestPortfolio\",10000,\"USD\",trans, start_date, end_date)"
   ]
  },
  {
   "cell_type": "code",
   "execution_count": 191,
   "metadata": {},
   "outputs": [
    {
     "data": {
      "text/plain": [
       "27.09000015258789"
      ]
     },
     "execution_count": 191,
     "metadata": {},
     "output_type": "execute_result"
    }
   ],
   "source": [
    "data[\"BAC\"][-1]"
   ]
  },
  {
   "cell_type": "code",
   "execution_count": 204,
   "metadata": {},
   "outputs": [
    {
     "name": "stdout",
     "output_type": "stream",
     "text": [
      "Symbol: AMC, Average Buy Price: 10.13\n",
      "Symbol: BTU, Average Buy Price: 22.02\n",
      "Symbol: F, Average Buy Price: 6.70\n"
     ]
    }
   ],
   "source": [
    "#pos = p1.get_open_positions()\n",
    "ps2 = p1.get_open_positions()"
   ]
  },
  {
   "cell_type": "code",
   "execution_count": 205,
   "metadata": {},
   "outputs": [
    {
     "data": {
      "text/plain": [
       "[{'AMC': {'total_cost': 506.50000000000006,\n",
       "   'total_units': 50,\n",
       "   'avg_price': 10.13}},\n",
       " {'BTU': {'total_cost': 6494.5,\n",
       "   'total_units': 295,\n",
       "   'avg_price': 22.015254237288136}},\n",
       " {'F': {'total_cost': 1542.0,\n",
       "   'total_units': 230,\n",
       "   'avg_price': 6.7043478260869565}}]"
      ]
     },
     "execution_count": 205,
     "metadata": {},
     "output_type": "execute_result"
    }
   ],
   "source": [
    "ps2"
   ]
  },
  {
   "cell_type": "code",
   "execution_count": 157,
   "metadata": {},
   "outputs": [
    {
     "name": "stdout",
     "output_type": "stream",
     "text": [
      "SPY: No data found for this date range, symbol may be delisted\n"
     ]
    },
    {
     "data": {
      "text/plain": [
       "Series([], Name: Close, dtype: float64)"
      ]
     },
     "execution_count": 157,
     "metadata": {},
     "output_type": "execute_result"
    }
   ],
   "source": []
  },
  {
   "cell_type": "code",
   "execution_count": 139,
   "metadata": {},
   "outputs": [
    {
     "data": {
      "text/plain": [
       "['F']"
      ]
     },
     "execution_count": 139,
     "metadata": {},
     "output_type": "execute_result"
    }
   ],
   "source": [
    "a"
   ]
  },
  {
   "cell_type": "code",
   "execution_count": 94,
   "metadata": {},
   "outputs": [
    {
     "data": {
      "text/plain": [
       "506.50000000000006"
      ]
     },
     "execution_count": 94,
     "metadata": {},
     "output_type": "execute_result"
    }
   ],
   "source": [
    "pos[i][symbol][\"total_cost\"]\n",
    "pos[0][\"AMC\"][\"total_cost\"]"
   ]
  },
  {
   "cell_type": "code",
   "execution_count": 101,
   "metadata": {},
   "outputs": [
    {
     "data": {
      "text/plain": [
       "404.79998779296875"
      ]
     },
     "execution_count": 101,
     "metadata": {},
     "output_type": "execute_result"
    }
   ],
   "source": [
    "\n",
    "import yfinance as yf\n",
    "yca = yf.Ticker(\"YCA.L\").history(interval=\"1m\", period = \"1d\")\n"
   ]
  },
  {
   "cell_type": "code",
   "execution_count": 206,
   "metadata": {},
   "outputs": [
    {
     "name": "stdout",
     "output_type": "stream",
     "text": [
      "[*********************100%***********************]  1 of 1 completed\n"
     ]
    }
   ],
   "source": [
    "\n",
    "data = yf.download(\"AAPL\",'2015-1-1')"
   ]
  },
  {
   "cell_type": "code",
   "execution_count": 207,
   "metadata": {},
   "outputs": [
    {
     "data": {
      "text/html": [
       "<div>\n",
       "<style scoped>\n",
       "    .dataframe tbody tr th:only-of-type {\n",
       "        vertical-align: middle;\n",
       "    }\n",
       "\n",
       "    .dataframe tbody tr th {\n",
       "        vertical-align: top;\n",
       "    }\n",
       "\n",
       "    .dataframe thead th {\n",
       "        text-align: right;\n",
       "    }\n",
       "</style>\n",
       "<table border=\"1\" class=\"dataframe\">\n",
       "  <thead>\n",
       "    <tr style=\"text-align: right;\">\n",
       "      <th></th>\n",
       "      <th>Open</th>\n",
       "      <th>High</th>\n",
       "      <th>Low</th>\n",
       "      <th>Close</th>\n",
       "      <th>Adj Close</th>\n",
       "      <th>Volume</th>\n",
       "    </tr>\n",
       "    <tr>\n",
       "      <th>Date</th>\n",
       "      <th></th>\n",
       "      <th></th>\n",
       "      <th></th>\n",
       "      <th></th>\n",
       "      <th></th>\n",
       "      <th></th>\n",
       "    </tr>\n",
       "  </thead>\n",
       "  <tbody>\n",
       "    <tr>\n",
       "      <th>2015-01-02</th>\n",
       "      <td>27.847500</td>\n",
       "      <td>27.860001</td>\n",
       "      <td>26.837500</td>\n",
       "      <td>27.332500</td>\n",
       "      <td>24.531763</td>\n",
       "      <td>212818400</td>\n",
       "    </tr>\n",
       "    <tr>\n",
       "      <th>2015-01-05</th>\n",
       "      <td>27.072500</td>\n",
       "      <td>27.162500</td>\n",
       "      <td>26.352501</td>\n",
       "      <td>26.562500</td>\n",
       "      <td>23.840666</td>\n",
       "      <td>257142000</td>\n",
       "    </tr>\n",
       "    <tr>\n",
       "      <th>2015-01-06</th>\n",
       "      <td>26.635000</td>\n",
       "      <td>26.857500</td>\n",
       "      <td>26.157499</td>\n",
       "      <td>26.565001</td>\n",
       "      <td>23.842915</td>\n",
       "      <td>263188400</td>\n",
       "    </tr>\n",
       "    <tr>\n",
       "      <th>2015-01-07</th>\n",
       "      <td>26.799999</td>\n",
       "      <td>27.049999</td>\n",
       "      <td>26.674999</td>\n",
       "      <td>26.937500</td>\n",
       "      <td>24.177244</td>\n",
       "      <td>160423600</td>\n",
       "    </tr>\n",
       "    <tr>\n",
       "      <th>2015-01-08</th>\n",
       "      <td>27.307501</td>\n",
       "      <td>28.037500</td>\n",
       "      <td>27.174999</td>\n",
       "      <td>27.972500</td>\n",
       "      <td>25.106184</td>\n",
       "      <td>237458000</td>\n",
       "    </tr>\n",
       "    <tr>\n",
       "      <th>...</th>\n",
       "      <td>...</td>\n",
       "      <td>...</td>\n",
       "      <td>...</td>\n",
       "      <td>...</td>\n",
       "      <td>...</td>\n",
       "      <td>...</td>\n",
       "    </tr>\n",
       "    <tr>\n",
       "      <th>2023-05-08</th>\n",
       "      <td>172.479996</td>\n",
       "      <td>173.850006</td>\n",
       "      <td>172.110001</td>\n",
       "      <td>173.500000</td>\n",
       "      <td>173.260345</td>\n",
       "      <td>55962800</td>\n",
       "    </tr>\n",
       "    <tr>\n",
       "      <th>2023-05-09</th>\n",
       "      <td>173.050003</td>\n",
       "      <td>173.539993</td>\n",
       "      <td>171.600006</td>\n",
       "      <td>171.770004</td>\n",
       "      <td>171.532745</td>\n",
       "      <td>45326900</td>\n",
       "    </tr>\n",
       "    <tr>\n",
       "      <th>2023-05-10</th>\n",
       "      <td>173.020004</td>\n",
       "      <td>174.029999</td>\n",
       "      <td>171.899994</td>\n",
       "      <td>173.559998</td>\n",
       "      <td>173.320267</td>\n",
       "      <td>53724500</td>\n",
       "    </tr>\n",
       "    <tr>\n",
       "      <th>2023-05-11</th>\n",
       "      <td>173.850006</td>\n",
       "      <td>174.589996</td>\n",
       "      <td>172.169998</td>\n",
       "      <td>173.750000</td>\n",
       "      <td>173.510010</td>\n",
       "      <td>49514700</td>\n",
       "    </tr>\n",
       "    <tr>\n",
       "      <th>2023-05-12</th>\n",
       "      <td>173.619995</td>\n",
       "      <td>174.059998</td>\n",
       "      <td>171.000000</td>\n",
       "      <td>172.570007</td>\n",
       "      <td>172.570007</td>\n",
       "      <td>45497800</td>\n",
       "    </tr>\n",
       "  </tbody>\n",
       "</table>\n",
       "<p>2105 rows × 6 columns</p>\n",
       "</div>"
      ],
      "text/plain": [
       "                  Open        High         Low       Close   Adj Close   \n",
       "Date                                                                     \n",
       "2015-01-02   27.847500   27.860001   26.837500   27.332500   24.531763  \\\n",
       "2015-01-05   27.072500   27.162500   26.352501   26.562500   23.840666   \n",
       "2015-01-06   26.635000   26.857500   26.157499   26.565001   23.842915   \n",
       "2015-01-07   26.799999   27.049999   26.674999   26.937500   24.177244   \n",
       "2015-01-08   27.307501   28.037500   27.174999   27.972500   25.106184   \n",
       "...                ...         ...         ...         ...         ...   \n",
       "2023-05-08  172.479996  173.850006  172.110001  173.500000  173.260345   \n",
       "2023-05-09  173.050003  173.539993  171.600006  171.770004  171.532745   \n",
       "2023-05-10  173.020004  174.029999  171.899994  173.559998  173.320267   \n",
       "2023-05-11  173.850006  174.589996  172.169998  173.750000  173.510010   \n",
       "2023-05-12  173.619995  174.059998  171.000000  172.570007  172.570007   \n",
       "\n",
       "               Volume  \n",
       "Date                   \n",
       "2015-01-02  212818400  \n",
       "2015-01-05  257142000  \n",
       "2015-01-06  263188400  \n",
       "2015-01-07  160423600  \n",
       "2015-01-08  237458000  \n",
       "...               ...  \n",
       "2023-05-08   55962800  \n",
       "2023-05-09   45326900  \n",
       "2023-05-10   53724500  \n",
       "2023-05-11   49514700  \n",
       "2023-05-12   45497800  \n",
       "\n",
       "[2105 rows x 6 columns]"
      ]
     },
     "execution_count": 207,
     "metadata": {},
     "output_type": "execute_result"
    }
   ],
   "source": [
    "data"
   ]
  },
  {
   "cell_type": "code",
   "execution_count": null,
   "metadata": {},
   "outputs": [],
   "source": []
  }
 ],
 "metadata": {
  "kernelspec": {
   "display_name": ".djangoTradingBlog",
   "language": "python",
   "name": "python3"
  },
  "language_info": {
   "codemirror_mode": {
    "name": "ipython",
    "version": 3
   },
   "file_extension": ".py",
   "mimetype": "text/x-python",
   "name": "python",
   "nbconvert_exporter": "python",
   "pygments_lexer": "ipython3",
   "version": "3.11.3"
  },
  "orig_nbformat": 4
 },
 "nbformat": 4,
 "nbformat_minor": 2
}
